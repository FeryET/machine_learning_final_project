{
 "cells": [
  {
   "cell_type": "code",
   "execution_count": 1,
   "metadata": {},
   "outputs": [
    {
     "name": "stdout",
     "output_type": "stream",
     "text": [
      "Requirement already satisfied: scikit-learn in ./venv/lib/python3.9/site-packages (0.24.2)\n",
      "Requirement already satisfied: numpy>=1.13.3 in ./venv/lib/python3.9/site-packages (from scikit-learn) (1.21.0)\n",
      "Requirement already satisfied: joblib>=0.11 in ./venv/lib/python3.9/site-packages (from scikit-learn) (1.0.1)\n",
      "Requirement already satisfied: threadpoolctl>=2.0.0 in ./venv/lib/python3.9/site-packages (from scikit-learn) (2.1.0)\n",
      "Requirement already satisfied: scipy>=0.19.1 in ./venv/lib/python3.9/site-packages (from scikit-learn) (1.7.0)\n",
      "\u001b[33mWARNING: You are using pip version 20.2.3; however, version 21.1.3 is available.\n",
      "You should consider upgrading via the '/media/farhood/Data/Courses/Bio Master Courses/Spring 1400/Machine Learning/Final Project/venv/bin/python -m pip install --upgrade pip' command.\u001b[0m\n",
      "Requirement already satisfied: pandas in ./venv/lib/python3.9/site-packages (1.2.5)\n",
      "Requirement already satisfied: python-dateutil>=2.7.3 in ./venv/lib/python3.9/site-packages (from pandas) (2.8.1)\n",
      "Requirement already satisfied: pytz>=2017.3 in ./venv/lib/python3.9/site-packages (from pandas) (2021.1)\n",
      "Requirement already satisfied: numpy>=1.16.5 in ./venv/lib/python3.9/site-packages (from pandas) (1.21.0)\n",
      "Requirement already satisfied: six>=1.5 in ./venv/lib/python3.9/site-packages (from python-dateutil>=2.7.3->pandas) (1.16.0)\n",
      "\u001b[33mWARNING: You are using pip version 20.2.3; however, version 21.1.3 is available.\n",
      "You should consider upgrading via the '/media/farhood/Data/Courses/Bio Master Courses/Spring 1400/Machine Learning/Final Project/venv/bin/python -m pip install --upgrade pip' command.\u001b[0m\n",
      "Requirement already satisfied: matplotlib in ./venv/lib/python3.9/site-packages (3.4.2)\n",
      "Requirement already satisfied: numpy>=1.16 in ./venv/lib/python3.9/site-packages (from matplotlib) (1.21.0)\n",
      "Requirement already satisfied: kiwisolver>=1.0.1 in ./venv/lib/python3.9/site-packages (from matplotlib) (1.3.1)\n",
      "Requirement already satisfied: pillow>=6.2.0 in ./venv/lib/python3.9/site-packages (from matplotlib) (8.2.0)\n",
      "Requirement already satisfied: cycler>=0.10 in ./venv/lib/python3.9/site-packages (from matplotlib) (0.10.0)\n",
      "Requirement already satisfied: pyparsing>=2.2.1 in ./venv/lib/python3.9/site-packages (from matplotlib) (2.4.7)\n",
      "Requirement already satisfied: python-dateutil>=2.7 in ./venv/lib/python3.9/site-packages (from matplotlib) (2.8.1)\n",
      "Requirement already satisfied: six in ./venv/lib/python3.9/site-packages (from cycler>=0.10->matplotlib) (1.16.0)\n",
      "\u001b[33mWARNING: You are using pip version 20.2.3; however, version 21.1.3 is available.\n",
      "You should consider upgrading via the '/media/farhood/Data/Courses/Bio Master Courses/Spring 1400/Machine Learning/Final Project/venv/bin/python -m pip install --upgrade pip' command.\u001b[0m\n"
     ]
    }
   ],
   "source": [
    "!pip install scikit-learn\n",
    "!pip install pandas\n",
    "!pip install matplotlib"
   ]
  },
  {
   "cell_type": "code",
   "execution_count": 2,
   "metadata": {},
   "outputs": [],
   "source": [
    "import os\n",
    "\n",
    "import pickle\n",
    "import json\n",
    "\n",
    "from pathlib import Path\n",
    "import numpy as np \n",
    "import pandas as pd \n",
    "\n",
    "import matplotlib.pyplot as plt\n",
    "\n",
    "from sklearn.preprocessing import *\n",
    "from sklearn.decomposition import *\n",
    "from sklearn.manifold import *\n",
    "\n",
    "from sklearn.pipeline import Pipeline\n",
    "\n",
    "\n",
    "\n",
    "plt.style.use(\"ggplot\")"
   ]
  },
  {
   "cell_type": "code",
   "execution_count": 3,
   "metadata": {},
   "outputs": [
    {
     "name": "stdout",
     "output_type": "stream",
     "text": [
      "<class 'pandas.core.frame.DataFrame'>\n",
      "RangeIndex: 2605 entries, 0 to 2604\n",
      "Data columns (total 8 columns):\n",
      " #   Column  Non-Null Count  Dtype \n",
      "---  ------  --------------  ----- \n",
      " 0   Age     2605 non-null   int64 \n",
      " 1   Gender  2605 non-null   object\n",
      " 2   Status  2605 non-null   object\n",
      " 3   f1      2605 non-null   object\n",
      " 4   f2      2605 non-null   object\n",
      " 5   f3      2605 non-null   object\n",
      " 6   f4      2605 non-null   object\n",
      " 7   f5      2605 non-null   object\n",
      "dtypes: int64(1), object(7)\n",
      "memory usage: 162.9+ KB\n",
      "None\n"
     ]
    },
    {
     "data": {
      "text/html": [
       "<div>\n",
       "<style scoped>\n",
       "    .dataframe tbody tr th:only-of-type {\n",
       "        vertical-align: middle;\n",
       "    }\n",
       "\n",
       "    .dataframe tbody tr th {\n",
       "        vertical-align: top;\n",
       "    }\n",
       "\n",
       "    .dataframe thead th {\n",
       "        text-align: right;\n",
       "    }\n",
       "</style>\n",
       "<table border=\"1\" class=\"dataframe\">\n",
       "  <thead>\n",
       "    <tr style=\"text-align: right;\">\n",
       "      <th></th>\n",
       "      <th>Age</th>\n",
       "      <th>Gender</th>\n",
       "      <th>Status</th>\n",
       "      <th>f1</th>\n",
       "      <th>f2</th>\n",
       "      <th>f3</th>\n",
       "      <th>f4</th>\n",
       "      <th>f5</th>\n",
       "    </tr>\n",
       "  </thead>\n",
       "  <tbody>\n",
       "    <tr>\n",
       "      <th>0</th>\n",
       "      <td>28</td>\n",
       "      <td>Female</td>\n",
       "      <td>Happy</td>\n",
       "      <td>[-0.03723609, -0.020824267, -0.025246128, 0.00...</td>\n",
       "      <td>[-0.0013615170028060675, -0.000550377124454826...</td>\n",
       "      <td>[-0.045345112681388855, 0.049214184284210205, ...</td>\n",
       "      <td>[0.622996985912323, 0.5587776899337769, 0.2035...</td>\n",
       "      <td>[142.0, 268.0, -91.8211441040039, 147.0, 304.0...</td>\n",
       "    </tr>\n",
       "    <tr>\n",
       "      <th>1</th>\n",
       "      <td>24</td>\n",
       "      <td>Male</td>\n",
       "      <td>Sad</td>\n",
       "      <td>[-0.009315872, -0.0008500488, 0.0008058883, 0....</td>\n",
       "      <td>[nan, nan, nan, nan, nan, nan, nan, nan, nan, ...</td>\n",
       "      <td>[nan, nan, nan, nan, nan, nan, nan, nan, nan, ...</td>\n",
       "      <td>[0.22100389003753662, 0.0, 0.0, 0.070420034229...</td>\n",
       "      <td>[1302.0, 2091.0, -218.44000244140625, 928.0, 2...</td>\n",
       "    </tr>\n",
       "    <tr>\n",
       "      <th>2</th>\n",
       "      <td>29</td>\n",
       "      <td>M</td>\n",
       "      <td>neutral</td>\n",
       "      <td>[-0.013662366, 0.03466877, -0.065040134, -0.04...</td>\n",
       "      <td>[-0.008576362393796444, 0.09807106107473373, -...</td>\n",
       "      <td>[-0.002319525694474578, 0.03656185418367386, -...</td>\n",
       "      <td>[0.0, 0.21522775292396545, 0.26262786984443665...</td>\n",
       "      <td>[831.0, 252.0, -65.05692291259766, 909.0, 516....</td>\n",
       "    </tr>\n",
       "    <tr>\n",
       "      <th>3</th>\n",
       "      <td>28</td>\n",
       "      <td>M</td>\n",
       "      <td>happy</td>\n",
       "      <td>[-0.06278418, -0.03465886, -0.035757925, -0.02...</td>\n",
       "      <td>[0.03950166329741478, 0.1211700439453125, 0.03...</td>\n",
       "      <td>[-0.02030731551349163, 0.0438639298081398, -0....</td>\n",
       "      <td>[0.021185416728258133, 0.015900805592536926, 0...</td>\n",
       "      <td>[796.0, 715.0, -420.5904541015625, 850.0, 845....</td>\n",
       "    </tr>\n",
       "    <tr>\n",
       "      <th>4</th>\n",
       "      <td>25</td>\n",
       "      <td>Male</td>\n",
       "      <td>Normal</td>\n",
       "      <td>[0.027600960806012154, 0.03169381991028786, -0...</td>\n",
       "      <td>[-0.012523038312792778, 0.1949128955602646, 0....</td>\n",
       "      <td>[-0.024486687034368515, 0.031889624893665314, ...</td>\n",
       "      <td>[0.36306896805763245, 0.45892614126205444, 0.1...</td>\n",
       "      <td>[nan, nan, nan, nan, nan, nan, nan, nan, nan, ...</td>\n",
       "    </tr>\n",
       "    <tr>\n",
       "      <th>...</th>\n",
       "      <td>...</td>\n",
       "      <td>...</td>\n",
       "      <td>...</td>\n",
       "      <td>...</td>\n",
       "      <td>...</td>\n",
       "      <td>...</td>\n",
       "      <td>...</td>\n",
       "      <td>...</td>\n",
       "    </tr>\n",
       "    <tr>\n",
       "      <th>2600</th>\n",
       "      <td>21</td>\n",
       "      <td>Female</td>\n",
       "      <td>Neutral</td>\n",
       "      <td>[-0.08245806396007538, 0.004096889868378639, 0...</td>\n",
       "      <td>[-0.00660118879750371, 0.016428500413894653, 0...</td>\n",
       "      <td>[-0.040763456374406815, 0.0548965260386467, -0...</td>\n",
       "      <td>[0.2818586230278015, 0.0, 0.1590728461742401, ...</td>\n",
       "      <td>[189.0, 377.0, -213.5455780029297, 211.0, 463....</td>\n",
       "    </tr>\n",
       "    <tr>\n",
       "      <th>2601</th>\n",
       "      <td>24</td>\n",
       "      <td>Female</td>\n",
       "      <td>Happy</td>\n",
       "      <td>[-0.024614291, 0.0066937124, 0.030145485, -0.0...</td>\n",
       "      <td>[0.0009541047620587051, 0.1416327953338623, 0....</td>\n",
       "      <td>[-0.06006622314453125, 0.045196782797575, -0.1...</td>\n",
       "      <td>[0.0, 0.04338845983147621, 0.01060467213392257...</td>\n",
       "      <td>[nan, nan, nan, nan, nan, nan, nan, nan, nan, ...</td>\n",
       "    </tr>\n",
       "    <tr>\n",
       "      <th>2602</th>\n",
       "      <td>12</td>\n",
       "      <td>Female</td>\n",
       "      <td>Happy</td>\n",
       "      <td>[-0.03445599973201752, -0.0030360377859324217,...</td>\n",
       "      <td>[-0.011861197650432587, 0.28009411692619324, 0...</td>\n",
       "      <td>[-0.035674870014190674, 0.06552769988775253, -...</td>\n",
       "      <td>[0.5378477573394775, 0.0, 0.39331185817718506,...</td>\n",
       "      <td>[154.0, 310.0, -205.8900146484375, 154.0, 354....</td>\n",
       "    </tr>\n",
       "    <tr>\n",
       "      <th>2603</th>\n",
       "      <td>25</td>\n",
       "      <td>male</td>\n",
       "      <td>happy</td>\n",
       "      <td>[-0.02918069, 0.032438118, 0.012860616, -0.045...</td>\n",
       "      <td>[0.018076958134770393, 0.13615529239177704, 0....</td>\n",
       "      <td>[-0.04480195418000221, 0.06002373620867729, -0...</td>\n",
       "      <td>[0.0, 0.25327205657958984, 0.14244912564754486...</td>\n",
       "      <td>[nan, nan, nan, nan, nan, nan, nan, nan, nan, ...</td>\n",
       "    </tr>\n",
       "    <tr>\n",
       "      <th>2604</th>\n",
       "      <td>6</td>\n",
       "      <td>male</td>\n",
       "      <td>happy</td>\n",
       "      <td>[-0.04017292708158493, -0.034021515399217606, ...</td>\n",
       "      <td>[-0.009551945142447948, -0.05964438244700432, ...</td>\n",
       "      <td>[-0.047032322734594345, 0.048147741705179214, ...</td>\n",
       "      <td>[0.12194440513849258, 0.0661281868815422, 0.17...</td>\n",
       "      <td>[nan, nan, nan, nan, nan, nan, nan, nan, nan, ...</td>\n",
       "    </tr>\n",
       "  </tbody>\n",
       "</table>\n",
       "<p>2605 rows × 8 columns</p>\n",
       "</div>"
      ],
      "text/plain": [
       "      Age  Gender   Status                                                 f1  \\\n",
       "0      28  Female    Happy  [-0.03723609, -0.020824267, -0.025246128, 0.00...   \n",
       "1      24    Male      Sad  [-0.009315872, -0.0008500488, 0.0008058883, 0....   \n",
       "2      29       M  neutral  [-0.013662366, 0.03466877, -0.065040134, -0.04...   \n",
       "3      28       M    happy  [-0.06278418, -0.03465886, -0.035757925, -0.02...   \n",
       "4      25    Male   Normal  [0.027600960806012154, 0.03169381991028786, -0...   \n",
       "...   ...     ...      ...                                                ...   \n",
       "2600   21  Female  Neutral  [-0.08245806396007538, 0.004096889868378639, 0...   \n",
       "2601   24  Female    Happy  [-0.024614291, 0.0066937124, 0.030145485, -0.0...   \n",
       "2602   12  Female    Happy  [-0.03445599973201752, -0.0030360377859324217,...   \n",
       "2603   25    male    happy  [-0.02918069, 0.032438118, 0.012860616, -0.045...   \n",
       "2604    6    male    happy  [-0.04017292708158493, -0.034021515399217606, ...   \n",
       "\n",
       "                                                     f2  \\\n",
       "0     [-0.0013615170028060675, -0.000550377124454826...   \n",
       "1     [nan, nan, nan, nan, nan, nan, nan, nan, nan, ...   \n",
       "2     [-0.008576362393796444, 0.09807106107473373, -...   \n",
       "3     [0.03950166329741478, 0.1211700439453125, 0.03...   \n",
       "4     [-0.012523038312792778, 0.1949128955602646, 0....   \n",
       "...                                                 ...   \n",
       "2600  [-0.00660118879750371, 0.016428500413894653, 0...   \n",
       "2601  [0.0009541047620587051, 0.1416327953338623, 0....   \n",
       "2602  [-0.011861197650432587, 0.28009411692619324, 0...   \n",
       "2603  [0.018076958134770393, 0.13615529239177704, 0....   \n",
       "2604  [-0.009551945142447948, -0.05964438244700432, ...   \n",
       "\n",
       "                                                     f3  \\\n",
       "0     [-0.045345112681388855, 0.049214184284210205, ...   \n",
       "1     [nan, nan, nan, nan, nan, nan, nan, nan, nan, ...   \n",
       "2     [-0.002319525694474578, 0.03656185418367386, -...   \n",
       "3     [-0.02030731551349163, 0.0438639298081398, -0....   \n",
       "4     [-0.024486687034368515, 0.031889624893665314, ...   \n",
       "...                                                 ...   \n",
       "2600  [-0.040763456374406815, 0.0548965260386467, -0...   \n",
       "2601  [-0.06006622314453125, 0.045196782797575, -0.1...   \n",
       "2602  [-0.035674870014190674, 0.06552769988775253, -...   \n",
       "2603  [-0.04480195418000221, 0.06002373620867729, -0...   \n",
       "2604  [-0.047032322734594345, 0.048147741705179214, ...   \n",
       "\n",
       "                                                     f4  \\\n",
       "0     [0.622996985912323, 0.5587776899337769, 0.2035...   \n",
       "1     [0.22100389003753662, 0.0, 0.0, 0.070420034229...   \n",
       "2     [0.0, 0.21522775292396545, 0.26262786984443665...   \n",
       "3     [0.021185416728258133, 0.015900805592536926, 0...   \n",
       "4     [0.36306896805763245, 0.45892614126205444, 0.1...   \n",
       "...                                                 ...   \n",
       "2600  [0.2818586230278015, 0.0, 0.1590728461742401, ...   \n",
       "2601  [0.0, 0.04338845983147621, 0.01060467213392257...   \n",
       "2602  [0.5378477573394775, 0.0, 0.39331185817718506,...   \n",
       "2603  [0.0, 0.25327205657958984, 0.14244912564754486...   \n",
       "2604  [0.12194440513849258, 0.0661281868815422, 0.17...   \n",
       "\n",
       "                                                     f5  \n",
       "0     [142.0, 268.0, -91.8211441040039, 147.0, 304.0...  \n",
       "1     [1302.0, 2091.0, -218.44000244140625, 928.0, 2...  \n",
       "2     [831.0, 252.0, -65.05692291259766, 909.0, 516....  \n",
       "3     [796.0, 715.0, -420.5904541015625, 850.0, 845....  \n",
       "4     [nan, nan, nan, nan, nan, nan, nan, nan, nan, ...  \n",
       "...                                                 ...  \n",
       "2600  [189.0, 377.0, -213.5455780029297, 211.0, 463....  \n",
       "2601  [nan, nan, nan, nan, nan, nan, nan, nan, nan, ...  \n",
       "2602  [154.0, 310.0, -205.8900146484375, 154.0, 354....  \n",
       "2603  [nan, nan, nan, nan, nan, nan, nan, nan, nan, ...  \n",
       "2604  [nan, nan, nan, nan, nan, nan, nan, nan, nan, ...  \n",
       "\n",
       "[2605 rows x 8 columns]"
      ]
     },
     "execution_count": 3,
     "metadata": {},
     "output_type": "execute_result"
    }
   ],
   "source": [
    "with open(\"data/ml_project_dataset.pkl\", \"rb\") as pkl:\n",
    "    data = pickle.load(pkl)\n",
    "cleaned = data.copy()\n",
    "print(data.info())\n",
    "data"
   ]
  },
  {
   "cell_type": "markdown",
   "metadata": {},
   "source": [
    "### Fixing Bad Status"
   ]
  },
  {
   "cell_type": "code",
   "execution_count": 4,
   "metadata": {},
   "outputs": [
    {
     "name": "stdout",
     "output_type": "stream",
     "text": [
      "Unique status:\n",
      "sad            473\n",
      "happy          451\n",
      "neutral        403\n",
      "Happy          350\n",
      "Sad            350\n",
      "Neutral        205\n",
      "Normal         145\n",
      "natural         68\n",
      "N               30\n",
      "S               25\n",
      "H               25\n",
      "happy           20\n",
      "0d02ffb6f3       1\n",
      "610e0ee7bf       1\n",
      "77ae9e7a51       1\n",
      "0054a40fde       1\n",
      "0d02ffb6f5       1\n",
      "77ae9e7a42       1\n",
      "601e0ee7bf       1\n",
      "607e0ee7bf       1\n",
      "0d02ffb6f4       1\n",
      "611e0ee7bf       1\n",
      "602e0ee7bf       1\n",
      "604e0ee7bf       1\n",
      "597e0ee7bf       1\n",
      "77ae9e7a44       1\n",
      "77ae9e7a47       1\n",
      "0042a40fde       1\n",
      "0046a40fde       1\n",
      "0d02ffb6f11      1\n",
      "0043a40fde       1\n",
      "0d02ffb6f15      1\n",
      "0d02ffb6f9       1\n",
      "0047a40fde       1\n",
      "0051a40fde       1\n",
      "77ae9e7a38       1\n",
      "77ae9e7a40       1\n",
      "0050a40fde       1\n",
      "0048a40fde       1\n",
      "605e0ee7bf       1\n",
      "0d02ffb6f8       1\n",
      "609e0ee7bf       1\n",
      "0d02ffb6f7       1\n",
      "0d02ffb6f14      1\n",
      "0d02ffb6f13      1\n",
      "77ae9e7a45       1\n",
      "77ae9e7a46       1\n",
      "77ae9e7a48       1\n",
      "608e0ee7bf       1\n",
      "77ae9e7a52       1\n",
      "77ae9e7a49       1\n",
      "599e0ee7bf       1\n",
      "0052a40fde       1\n",
      "77ae9e7a39       1\n",
      "77ae9e7a50       1\n",
      "77ae9e7a43       1\n",
      "598e0ee7bf       1\n",
      "0d02ffb6f6       1\n",
      "0d02ffb6f10      1\n",
      "0d02ffb6f1       1\n",
      "600e0ee7bf       1\n",
      "603e0ee7bf       1\n",
      "0040a40fde       1\n",
      "606e0ee7bf       1\n",
      "0053a40fde       1\n",
      "0041a40fde       1\n",
      "0044a40fde       1\n",
      "0045a40fde       1\n",
      "0049a40fde       1\n",
      "0d02ffb6f2       1\n",
      "77ae9e7a41       1\n",
      "0d02ffb6f12      1\n",
      "Name: Status, dtype: int64\n",
      "\n"
     ]
    }
   ],
   "source": [
    "with pd.option_context('display.max_rows', None, 'display.max_columns', None): \n",
    "    print(f\"Unique status:\\n{data['Status'].value_counts()}\\n\")"
   ]
  },
  {
   "cell_type": "code",
   "execution_count": 5,
   "metadata": {},
   "outputs": [
    {
     "name": "stdout",
     "output_type": "stream",
     "text": [
      "Cleaned labels in 'Status' ['H' 'S' 'N']\n"
     ]
    }
   ],
   "source": [
    "cleaned[\"Status\"] = data[\"Status\"].apply(lambda x: x.upper()[0] if type(x) == str  and x.lower()[0] in  list(\"nhs\") else np.nan)\n",
    "\n",
    "cleaned.dropna(subset = ['Status'], inplace=True)\n",
    "print(f\"Cleaned labels in 'Status' {cleaned['Status'].unique()}\")"
   ]
  },
  {
   "cell_type": "markdown",
   "metadata": {},
   "source": [
    "### Fixing bad genders"
   ]
  },
  {
   "cell_type": "code",
   "execution_count": 6,
   "metadata": {},
   "outputs": [
    {
     "name": "stdout",
     "output_type": "stream",
     "text": [
      "Unique status:\n",
      "['Female' 'Male' 'M' 'female' 'male' 'F' 'm']\n",
      "\n",
      "Cleaned labels in 'Gender' ['F' 'M']\n"
     ]
    }
   ],
   "source": [
    "with pd.option_context('display.max_rows', None, 'display.max_columns', None): \n",
    "    print(f\"Unique status:\\n{cleaned['Gender'].unique()}\\n\")\n",
    "\n",
    "cleaned[\"Gender\"] = cleaned[\"Gender\"].apply(lambda x: x.upper()[0])\n",
    "print(f\"Cleaned labels in 'Gender' {cleaned['Gender'].unique()}\")"
   ]
  },
  {
   "cell_type": "markdown",
   "metadata": {},
   "source": [
    "## Filling Missing values\n"
   ]
  },
  {
   "cell_type": "code",
   "execution_count": 7,
   "metadata": {},
   "outputs": [
    {
     "name": "stdout",
     "output_type": "stream",
     "text": [
      "Index(['Age', 'Gender', 'Status', 'f1', 'f2', 'f3', 'f4', 'f5'], dtype='object')\n",
      "f1: has 303 rows out of 2545 with nan values\n",
      "f2: has 262 rows out of 2545 with nan values\n",
      "f3: has 262 rows out of 2545 with nan values\n",
      "f4: has 0 rows out of 2545 with nan values\n",
      "f5: has 877 rows out of 2545 with nan values\n",
      "[512, 1536, 2304, 2560, 204]\n",
      "(2545, 7116)\n"
     ]
    }
   ],
   "source": [
    "print(cleaned.columns)\n",
    "keys = [f\"f{i}\" for i in range(1, 6)]\n",
    "\n",
    "X = [cleaned[k].values.tolist() for k in keys]\n",
    "feature_set_dims = []\n",
    "\n",
    "for idx in range(len(X)):\n",
    "    x = X[idx] = np.array(X[idx])\n",
    "    nans = np.isnan(x).any(axis=-1).sum()\n",
    "    print(f\"f{idx+1}: has {nans} rows out of {len(x)} with nan values\")\n",
    "    feature_set_dims.append(x.shape[-1])\n",
    "\n",
    "\n",
    "print(feature_set_dims)\n",
    "X = np.concatenate(X, axis=1)\n",
    "print(X.shape)"
   ]
  },
  {
   "cell_type": "markdown",
   "metadata": {},
   "source": [
    "### Splitting dataset into train, val, test sets"
   ]
  },
  {
   "cell_type": "code",
   "execution_count": 8,
   "metadata": {},
   "outputs": [],
   "source": [
    "from sklearn.model_selection import train_test_split\n",
    "\n",
    "portions = {\n",
    "    \"val\": 0.1,\n",
    "    \"test\": 0.2\n",
    "}   \n",
    "\n",
    "\n",
    "indices = np.arange(len(X))\n",
    "\n",
    "non_splitted_indices, test_indices = train_test_split(indices, test_size=portions[\"test\"],\n",
    "shuffle=True, random_state=42)\n",
    "\n",
    "train_indices, val_indices = train_test_split(non_splitted_indices, test_size=portions[\"val\"], shuffle=True)\n",
    "\n",
    "\n",
    "assert len(np.intersect1d(train_indices, test_indices)) == 0\n",
    "assert len(np.intersect1d(train_indices, val_indices)) == 0\n",
    "assert len(np.intersect1d(val_indices, test_indices)) == 0\n",
    "\n",
    "with open(\"data/processed/indices.json\", \"w\") as jfile:\n",
    "    json.dump(\n",
    "        dict(train_indices=train_indices.tolist(), \n",
    "        test_indices=test_indices.tolist(), \n",
    "        val_indices=val_indices.tolist(),\n",
    "        feature_dims=feature_set_dims,),\n",
    "        jfile,\n",
    "    )\n"
   ]
  },
  {
   "cell_type": "markdown",
   "metadata": {},
   "source": [
    "## Imputing"
   ]
  },
  {
   "cell_type": "code",
   "execution_count": 9,
   "metadata": {},
   "outputs": [
    {
     "name": "stdout",
     "output_type": "stream",
     "text": [
      "(2545, 7116)\n",
      "(2545, 7116)\n",
      "0\n"
     ]
    }
   ],
   "source": [
    "from sklearn.impute import KNNImputer\n",
    "\n",
    "\n",
    "\n",
    "print(X.shape)\n",
    "\n",
    "imputer = KNNImputer(n_neighbors=5)\n",
    "\n",
    "X_train = X[train_indices,...]\n",
    "\n",
    "imputer.fit(X_train)\n",
    "X = imputer.transform(X)\n",
    "print(X.shape)\n",
    "\n",
    "X_train = X[train_indices]\n",
    "\n",
    "print(np.isnan(X).sum())\n",
    "\n"
   ]
  },
  {
   "cell_type": "markdown",
   "metadata": {},
   "source": [
    "# Saving Imputed Dataset"
   ]
  },
  {
   "cell_type": "code",
   "execution_count": 10,
   "metadata": {},
   "outputs": [],
   "source": [
    "np.savetxt(\"data/processed/filled.np.gz\", X)"
   ]
  },
  {
   "cell_type": "markdown",
   "metadata": {},
   "source": [
    "### dimension reduction on training data"
   ]
  },
  {
   "cell_type": "code",
   "execution_count": 11,
   "metadata": {},
   "outputs": [],
   "source": [
    "def compute_variance_info(X_input):\n",
    "    variance_info = []\n",
    "    for n in np.unique(np.logspace(np.log10(2), np.log(X_input.shape[1]), num=50, base=10, dtype=int)):\n",
    "        svd = TruncatedSVD(n_components=n)\n",
    "        preprocessor = Pipeline(\n",
    "            [\n",
    "                (\"scaler\", StandardScaler()),\n",
    "                (\"svd\", svd)\n",
    "            ]\n",
    "        )\n",
    "        preprocessor.fit(X_input)\n",
    "        explained_variance = svd.explained_variance_ratio_.sum()\n",
    "        variance_info.append(\n",
    "            {\n",
    "                \"n_components\": n,\n",
    "                \"explained_variance\": explained_variance,\n",
    "                \"all_variances\": svd.explained_variance_ratio_\n",
    "            }\n",
    "        )\n",
    "        print(f\"N Components: {n}, Explained variance: {explained_variance}\")\n",
    "        if explained_variance > 0.95:\n",
    "            break\n",
    "    return variance_info"
   ]
  },
  {
   "cell_type": "markdown",
   "metadata": {},
   "source": [
    "The place where were the difference becomes increasingly small after, and itself has a small variance is a good place to choose as the right **n_components** "
   ]
  },
  {
   "cell_type": "code",
   "execution_count": 12,
   "metadata": {},
   "outputs": [],
   "source": [
    "def plot_variance_info(variance_info):\n",
    "    fig, axes = plt.subplots(3, 1, figsize=(8,15), constrained_layout=True)\n",
    "    fig.suptitle(f\"Dimensionality Reduction Info\")\n",
    "    fig.set_constrained_layout_pads(w_pad=0.5, h_pad=0.2, hspace=0, wspace=0.5)\n",
    "\n",
    "    axes = list(axes.flat)\n",
    "    # [ax.set_xscale(\"log\") for ax in axes]\n",
    "\n",
    "    variance_df = pd.DataFrame(variance_info)\n",
    "\n",
    "\n",
    "    # Plotting explained variance\n",
    "    ax = axes[0]\n",
    "    variance_df.plot(\"n_components\", \"explained_variance\", ax=ax, legend=False)\n",
    "    ax.set_title(\"Explained Variance vs N Components\")\n",
    "    ax.grid(\"on\")\n",
    "    ax.set_ylabel(\"Explained Variance\")\n",
    "    ax.set_xlabel(\"N Components\")\n",
    "\n",
    "\n",
    "    # Plotting variance differences between last and one before last components\n",
    "    ax = axes[1]\n",
    "    diff_info = []\n",
    "    for var_info in variance_info:\n",
    "        before_last, last = var_info[\"all_variances\"][-2:]\n",
    "        diff_info.append(\n",
    "            {\n",
    "                \"difference\": before_last - last,\n",
    "                \"n_components\": var_info[\"n_components\"],\n",
    "                \"last_var\": last,\n",
    "            }\n",
    "        )\n",
    "\n",
    "    diff_info = pd.DataFrame(diff_info)\n",
    "\n",
    "    diff_info.plot(\"n_components\", \"difference\", ax = ax, legend=False)\n",
    "    ax.legend(\"\")\n",
    "    ax.grid(\"on\")\n",
    "    ax.set_title(\"Last Two Components' Difference vs N Components\")\n",
    "    ax.set_ylabel(\"Difference\")\n",
    "    ax.set_xlabel(\"N Components\")\n",
    "\n",
    "\n",
    "\n",
    "    # Plotting variance differences between last and one before last components\n",
    "    ax = axes[2]\n",
    "    diff_info.plot(\"n_components\", \"last_var\", ax = ax, legend=False)\n",
    "    ax.legend(\"\")\n",
    "    ax.grid(\"on\")\n",
    "    ax.set_title(\"Explained Variance in the Nth Component\")\n",
    "    ax.set_ylabel(\"Variance\")\n",
    "    ax.set_xlabel(\"Nth Component\")\n"
   ]
  },
  {
   "cell_type": "code",
   "execution_count": 13,
   "metadata": {},
   "outputs": [
    {
     "name": "stdout",
     "output_type": "stream",
     "text": [
      "N Components: 2, Explained variance: 0.16564654055866862\n",
      "N Components: 4, Explained variance: 0.3022252798304702\n",
      "N Components: 6, Explained variance: 0.400249946910891\n",
      "N Components: 10, Explained variance: 0.5289926668531904\n",
      "N Components: 14, Explained variance: 0.599318470802\n",
      "N Components: 22, Explained variance: 0.6720133285621982\n",
      "N Components: 33, Explained variance: 0.7330919816115564\n",
      "N Components: 50, Explained variance: 0.7929706104576232\n",
      "N Components: 74, Explained variance: 0.8469667855742437\n",
      "N Components: 112, Explained variance: 0.8991646889828014\n",
      "N Components: 167, Explained variance: 0.9397843611370285\n",
      "N Components: 250, Explained variance: 0.9676818987485256\n"
     ]
    },
    {
     "data": {
      "image/png": "[encoded data removed]",
      "text/plain": [
       "<Figure size 576x1080 with 3 Axes>"
      ]
     },
     "metadata": {},
     "output_type": "display_data"
    }
   ],
   "source": [
    "variance_info = compute_variance_info(X_train)\n",
    "plot_variance_info(variance_info)"
   ]
  },
  {
   "cell_type": "code",
   "execution_count": 14,
   "metadata": {},
   "outputs": [
    {
     "name": "stdout",
     "output_type": "stream",
     "text": [
      "(2545, 25)\n"
     ]
    }
   ],
   "source": [
    "n = 25\n",
    "\n",
    "reducer = Pipeline(\n",
    "    [\n",
    "        (\"scaler\", StandardScaler()),\n",
    "        (\"svd\", TruncatedSVD(n_components=n))\n",
    "    ]\n",
    ")\n",
    "reducer.fit(X_train)\n",
    "\n",
    "# Applying dimension reduction on all data\n",
    "X_transform = reducer.transform(X)\n",
    "print(X_transform.shape)"
   ]
  },
  {
   "cell_type": "markdown",
   "metadata": {},
   "source": [
    "### Saving the preprocessed data for further use\n",
    "\n",
    "preprocessed data + (train, test, val) indices as metadata in a different json files."
   ]
  },
  {
   "cell_type": "code",
   "execution_count": 15,
   "metadata": {},
   "outputs": [],
   "source": [
    "final_df = cleaned.copy()\n",
    "\n",
    "final_df[\"features\"] = X_transform.tolist()\n",
    "final_df.drop(\n",
    "    labels = \"f1 f2 f3 f4 f5\".split(), axis=1, inplace=True\n",
    ")"
   ]
  },
  {
   "cell_type": "code",
   "execution_count": 16,
   "metadata": {},
   "outputs": [],
   "source": [
    "import gzip \n",
    "\n",
    "save_loc = \"data/processed/\"\n",
    "Path(save_loc).mkdir(parents=True, exist_ok=True)\n",
    "\n",
    "\n",
    "info = {\n",
    "    \"df\": final_df.to_dict(),\n",
    "    \"train_indices\": train_indices.tolist(),\n",
    "    \"test_indices\": test_indices.tolist(),\n",
    "    \"val_indices\": val_indices.tolist(),\n",
    "}\n",
    "\n",
    "\n",
    "with open(os.path.join(save_loc, \"processed_data.json\"), \"w\") as jfile:\n",
    "    json.dump(info, jfile)"
   ]
  }
 ],
 "metadata": {
  "interpreter": {
   "hash": "927038ae8190c10368ddd6b7c17e7998b1fce7f35984d4fe249a4ddf13c1f407"
  },
  "kernelspec": {
   "display_name": "venv",
   "language": "python",
   "name": "venv"
  },
  "language_info": {
   "codemirror_mode": {
    "name": "ipython",
    "version": 3
   },
   "file_extension": ".py",
   "mimetype": "text/x-python",
   "name": "python",
   "nbconvert_exporter": "python",
   "pygments_lexer": "ipython3",
   "version": "3.8.10"
  }
 },
 "nbformat": 4,
 "nbformat_minor": 2
}