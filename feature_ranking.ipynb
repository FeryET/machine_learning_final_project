{
 "cells": [
  {
   "cell_type": "code",
   "execution_count": 1,
   "metadata": {},
   "outputs": [],
   "source": [
    "import os\n",
    "import json\n",
    "import pandas as pd\n",
    "import numpy as np\n",
    "\n",
    "import ast\n",
    "\n",
    "import pickle \n",
    "import matplotlib.pyplot as plt \n",
    "\n",
    "from sklearn.feature_selection import *\n",
    "from sklearn.model_selection import *\n",
    "from sklearn.preprocessing import *\n",
    "from sklearn.decomposition import PCA\n",
    "from sklearn.pipeline import Pipeline\n",
    "\n",
    "from sklearn.svm import SVC, SVR, LinearSVC\n",
    "from sklearn.metrics import *\n",
    "from sklearn.model_selection import cross_val_score\n",
    "\n",
    "from sklearn.ensemble import RandomForestRegressor, RandomForestClassifier\n",
    "\n",
    "\n",
    "from sklearn.base import TransformerMixin\n",
    "from sklearn.metrics import *"
   ]
  },
  {
   "cell_type": "code",
   "execution_count": 2,
   "metadata": {},
   "outputs": [],
   "source": [
    "X = np.loadtxt(\"data/processed/filled.np.gz\")"
   ]
  },
  {
   "cell_type": "code",
   "execution_count": 3,
   "metadata": {},
   "outputs": [
    {
     "name": "stdout",
     "output_type": "stream",
     "text": [
      "      Age Gender Status                                           features\n",
      "0      28      F      H  [-22.657711933297467, 30.769295879945037, -23....\n",
      "1      24      M      S  [182.05834145671884, 20.138809568394194, -6.23...\n",
      "2      29      M      N  [-21.308495839973528, -12.517586239957701, -9....\n",
      "3      28      M      H  [-22.320687052787786, 22.945827273719978, -22....\n",
      "4      25      M      N  [-22.65158385249504, 25.13058078215149, -11.95...\n",
      "...   ...    ...    ...                                                ...\n",
      "2600   21      F      N  [-21.756444948496828, -33.34037201123824, -2.2...\n",
      "2601   24      F      H  [-20.832185096880092, 1.4025807238407926, -12....\n",
      "2602   12      F      H  [-20.441490886122775, 14.783729334551827, -7.3...\n",
      "2603   25      M      H  [-20.757076001239067, -24.569769281532093, -1....\n",
      "2604    6      M      H  [-20.658551689088036, 10.331795410271129, 40.6...\n",
      "\n",
      "[2545 rows x 4 columns]\n"
     ]
    }
   ],
   "source": [
    "with open(\"data/processed/processed_data.json\") as jfile:\n",
    "    df = json.load(jfile)[\"df\"]\n",
    "    df = pd.DataFrame(df)\n",
    "\n",
    "print(df)"
   ]
  },
  {
   "cell_type": "code",
   "execution_count": 4,
   "metadata": {},
   "outputs": [],
   "source": [
    "with open(\"data/processed/indices.json\") as jfile:\n",
    "    indices = json.load(jfile)\n",
    "\n",
    "\n",
    "# We created a set of indices for each subset, and it's important to keep \n",
    "# Test indices seperate from our hyperparameter tunings,\n",
    "# Only validation is tested for feature selection and etc\n",
    "\n",
    "train_indices = np.array(indices[\"train_indices\"])\n",
    "val_indices = np.array(indices[\"val_indices\"])\n",
    "test_indices = np.array(indices[\"test_indices\"])\n",
    "\n",
    "X_train = X[train_indices]\n",
    "X_val = X[val_indices]\n",
    "X_test = X[test_indices]\n",
    "\n",
    "\n",
    "feature_dims = np.array(indices[\"feature_dims\"])\n",
    "features = \"f1 f2 f3 f4 f5\".split()\n"
   ]
  },
  {
   "cell_type": "markdown",
   "metadata": {},
   "source": [
    "# Feature Ranking"
   ]
  },
  {
   "cell_type": "code",
   "execution_count": 5,
   "metadata": {},
   "outputs": [],
   "source": [
    "gender_encoder = LabelEncoder().fit(df[\"Gender\"])\n",
    "status_encoder = LabelEncoder().fit(df[\"Status\"])\n",
    "\n",
    "genders = gender_encoder.transform(df[\"Gender\"])\n",
    "status = status_encoder.transform(df[\"Status\"])\n",
    "\n",
    "gender_onehot = OneHotEncoder().fit_transform(genders.reshape(-1, 1))\n",
    "status_onehot = OneHotEncoder().fit_transform(status.reshape(-1, 1))\n"
   ]
  },
  {
   "cell_type": "code",
   "execution_count": 6,
   "metadata": {},
   "outputs": [
    {
     "data": {
      "text/plain": [
       "{'f1': (0, 512),\n",
       " 'f2': (512, 2048),\n",
       " 'f3': (2048, 4352),\n",
       " 'f4': (4352, 6912),\n",
       " 'f5': (6912, 7116)}"
      ]
     },
     "execution_count": 6,
     "metadata": {},
     "output_type": "execute_result"
    }
   ],
   "source": [
    "# Boundaries in the X matrix, each feature set starts from a start_column and ends in a end_column\n",
    "feature_boundaries = {}\n",
    "start_idx = 0\n",
    "for f, feature_len in zip(features, feature_dims):\n",
    "    feature_boundaries[f] = (start_idx, start_idx + feature_len)\n",
    "    start_idx += feature_len\n",
    "feature_boundaries"
   ]
  },
  {
   "cell_type": "markdown",
   "metadata": {},
   "source": [
    "## Feature Set Importance Using Random Forests\n",
    "\n",
    "\n",
    "We use a random forest clf to classify the most important features for each label, starting with age.\n",
    "\n",
    "First we calculate a \"leave feature out\" error rate, to compare, then we calculate direct feature importances on a PCA projected set of each original set, and show some metrics. \n",
    "\n",
    "First we define some custom helper classes."
   ]
  },
  {
   "cell_type": "code",
   "execution_count": 7,
   "metadata": {},
   "outputs": [],
   "source": [
    "# Defining a custom pca for cross validation\n",
    "\n",
    "class CustomPCA(TransformerMixin):\n",
    "    def __init__(self, indices, explained_var=0.8):\n",
    "        super().__init__()\n",
    "        self.explained_var = explained_var\n",
    "        self.indices = indices\n",
    "        self.pcas = {}\n",
    "\n",
    "    def fit(self, X, y=None, **kwargs):\n",
    "        for k in self.indices:\n",
    "            start_col, end_col = self.indices[k]\n",
    "            self.pcas[k] = Pipeline(\n",
    "                [\n",
    "                    (\"scaler\", StandardScaler()),\n",
    "                    (\"pca\", PCA(self.explained_var))\n",
    "                ]\n",
    "            )\n",
    "            self.pcas[k].fit_transform(X[:, start_col:end_col])\n",
    "        return self\n",
    "        \n",
    "    def transform(self, X, **kwargs):\n",
    "        X_transform = []\n",
    "        for k in self.indices:\n",
    "            start_col, end_col = self.indices[k]\n",
    "            X_transform.append(self.pcas[k].transform(X[:, start_col:end_col]))\n",
    "        return np.concatenate(X_transform, axis=-1)"
   ]
  },
  {
   "cell_type": "code",
   "execution_count": 8,
   "metadata": {},
   "outputs": [],
   "source": [
    "class ProbaScorer:\n",
    "    def __init__(self):\n",
    "        pass\n",
    "\n",
    "    def __call__(self, clf, X, y):\n",
    "        '''\n",
    "            calls predict_proba function of clf and computes\n",
    "            a bayesian mse for the clf\n",
    "        '''\n",
    "        probs = clf.predict_proba(X)\n",
    "        n_class = len(np.unique(y))\n",
    "        one_hot = np.zeros((len(X), n_class))\n",
    "        one_hot[:, y] = 1\n",
    "        mse = ((probs - one_hot) ** 2).mean()\n",
    "        return mse"
   ]
  },
  {
   "cell_type": "code",
   "execution_count": 9,
   "metadata": {},
   "outputs": [],
   "source": [
    "class FeatureImportanceScorer:\n",
    "    def __init__(self, indices):\n",
    "        self.indices = indices\n",
    "    \n",
    "    def __call__(self, clf, X=None, y=None):\n",
    "        '''\n",
    "            reporting mean, max and std of importances of random forest\n",
    "        '''\n",
    "        result = []\n",
    "        for f in self.indices:\n",
    "            start_col, end_col = self.indices[f]\n",
    "            importances = clf.feature_importances_[start_col:end_col]\n",
    "            result.append({\n",
    "                \"feature set\": f,\n",
    "                \"max_importance\": importances.max(),\n",
    "                \"mean_importance\": importances.mean(),\n",
    "                \"std_importance\": importances.std(),\n",
    "            })\n",
    "        return result\n"
   ]
  },
  {
   "cell_type": "code",
   "execution_count": 10,
   "metadata": {},
   "outputs": [],
   "source": [
    "# Projecting from high dimensional data to each feature set's PC space\n",
    "pca = CustomPCA(feature_boundaries).fit(X[train_indices])\n",
    "X_train_transform = pca.transform(X_train)\n",
    "X_val_transform = pca.transform(X_val)"
   ]
  },
  {
   "cell_type": "code",
   "execution_count": 11,
   "metadata": {},
   "outputs": [
    {
     "data": {
      "text/plain": [
       "{'f1': (0, 27), 'f2': (27, 63), 'f3': (63, 88), 'f4': (88, 95), 'f5': (95, 98)}"
      ]
     },
     "execution_count": 11,
     "metadata": {},
     "output_type": "execute_result"
    }
   ],
   "source": [
    "# The previous indices does not work, we need to find the new indices for each pc set\n",
    "transformed_feature_boundaries = {}\n",
    "start = 0\n",
    "for k in pca.pcas:\n",
    "    end = start + pca.pcas[k][\"pca\"].n_components_\n",
    "    transformed_feature_boundaries[k] = (start, end)\n",
    "    start = end\n",
    "transformed_feature_boundaries"
   ]
  },
  {
   "cell_type": "markdown",
   "metadata": {},
   "source": [
    "#### Gender Importances"
   ]
  },
  {
   "cell_type": "code",
   "execution_count": 16,
   "metadata": {},
   "outputs": [
    {
     "name": "stdout",
     "output_type": "stream",
     "text": [
      "####\n",
      "#### Gender ####\n",
      "####\n",
      "Error rate for leave one feature out:\n",
      "\n",
      "  except_feature  accuracy  bayes_mse\n",
      "0             f1  0.941176   0.434471\n",
      "1             f2  0.976471   0.444887\n",
      "2             f3  0.972549   0.447153\n",
      "3             f4  0.980392   0.448348\n",
      "4             f5  0.972549   0.445493\n",
      "\n",
      "\n",
      "Error rate for training with only one feature set:\n",
      "\n",
      "  feature_set  accuracy  bayes_mse\n",
      "0          f1  0.929412   0.449166\n",
      "1          f2  0.933333   0.432584\n",
      "2          f3  0.929412   0.432437\n",
      "3          f4  0.686275   0.379724\n",
      "4          f5  0.745098   0.386273\n",
      "\n",
      "\n",
      "Collective Feature Importances:\n",
      "\n",
      "  feature set  max_importance  mean_importance  std_importance\n",
      "0          f1        0.188727         0.013064        0.034564\n",
      "1          f2        0.101787         0.009525        0.018949\n",
      "2          f3        0.076356         0.009877        0.015386\n",
      "3          f4        0.004589         0.003548        0.000770\n",
      "4          f5        0.017329         0.010873        0.004905\n",
      "\n",
      "\n"
     ]
    }
   ],
   "source": [
    "gender_except_info = []\n",
    "\n",
    "clf = RandomForestClassifier(n_estimators=100, )\n",
    "\n",
    "for f in features:\n",
    "    # all sets except one\n",
    "    indices = [i for k, (start, end) in transformed_feature_boundaries.items() for i in range(start, end) if k != f]\n",
    "    curr_X_train = X_train_transform[..., indices]\n",
    "    curr_X_val = X_val_transform[..., indices]\n",
    "    clf.fit(curr_X_train, genders[train_indices])\n",
    "    preds = clf.predict(curr_X_val)\n",
    "    target = genders[val_indices]\n",
    "    gender_except_info.append(\n",
    "        {\n",
    "            \"except_feature\": f,\n",
    "            \"accuracy\": accuracy_score(preds, target),\n",
    "            \"bayes_mse\": ProbaScorer()(clf, curr_X_train, target),\n",
    "        }\n",
    "    )\n",
    "\n",
    "gender_only_info = []\n",
    "for f in features:\n",
    "    # all sets except one\n",
    "    start, end = transformed_feature_boundaries[f]\n",
    "    curr_X_train = X_train_transform[:, start:end]\n",
    "    curr_X_val = X_val_transform[:, start:end]\n",
    "    clf.fit(curr_X_train, genders[train_indices])\n",
    "    preds = clf.predict(curr_X_val)\n",
    "    target = genders[val_indices]\n",
    "    gender_only_info.append(\n",
    "        {\n",
    "            \"feature_set\": f,\n",
    "            \"accuracy\": accuracy_score(preds, target),\n",
    "            \"bayes_mse\": ProbaScorer()(clf, curr_X_train, target),\n",
    "        }\n",
    "    )\n",
    "\n",
    "\n",
    "\n",
    "clf.fit(X_train_transform, genders[train_indices])\n",
    "gender_set_importances = FeatureImportanceScorer(transformed_feature_boundaries)(clf)\n",
    "\n",
    "\n",
    "print(\"####\\n#### Gender ####\\n####\")\n",
    "\n",
    "print(f\"Error rate for leave one feature out:\\n\\n{pd.DataFrame(gender_except_info)}\\n\\n\")\n",
    "print(f\"Error rate for training with only one feature set:\\n\\n{pd.DataFrame(gender_only_info)}\\n\\n\")\n",
    "\n",
    "print(f\"Collective Feature Importances:\\n\\n{pd.DataFrame(gender_set_importances)}\\n\\n\")"
   ]
  },
  {
   "cell_type": "markdown",
   "metadata": {},
   "source": [
    "#### Status Importances"
   ]
  },
  {
   "cell_type": "code",
   "execution_count": 17,
   "metadata": {},
   "outputs": [
    {
     "name": "stdout",
     "output_type": "stream",
     "text": [
      "####\n",
      "#### Status ####\n",
      "####\n",
      "Error rate for leave one feature out:\n",
      "\n",
      "  except_feature  accuracy  bayes_mse\n",
      "0             f1  0.376471   0.541008\n",
      "1             f2  0.376471   0.541616\n",
      "2             f3  0.352941   0.541872\n",
      "3             f4  0.333333   0.542971\n",
      "4             f5  0.360784   0.543356\n",
      "\n",
      "\n",
      "Error rate for training with only one feature set:\n",
      "\n",
      "  feature_set  accuracy  bayes_mse\n",
      "0          f1  0.278431   0.538276\n",
      "1          f2  0.368627   0.542200\n",
      "2          f3  0.423529   0.541988\n",
      "3          f4  0.313725   0.538201\n",
      "4          f5  0.333333   0.535299\n",
      "\n",
      "\n",
      "Collective Feature Importances:\n",
      "\n",
      "  feature set  max_importance  mean_importance  std_importance\n",
      "0          f1        0.012077         0.010459        0.000688\n",
      "1          f2        0.012180         0.010081        0.000936\n",
      "2          f3        0.013172         0.009986        0.001380\n",
      "3          f4        0.012031         0.010652        0.000786\n",
      "4          f5        0.010715         0.010160        0.000623\n",
      "\n",
      "\n"
     ]
    }
   ],
   "source": [
    "status_except_info = []\n",
    "\n",
    "clf = RandomForestClassifier(n_estimators=100, )\n",
    "\n",
    "for f in features:\n",
    "    # all sets except one\n",
    "    indices = [i for k, (start, end) in transformed_feature_boundaries.items() for i in range(start, end) if k != f]\n",
    "    curr_X_train = X_train_transform[..., indices]\n",
    "    curr_X_val = X_val_transform[..., indices]\n",
    "    clf.fit(curr_X_train, status[train_indices])\n",
    "    preds = clf.predict(curr_X_val)\n",
    "    target = status[val_indices]\n",
    "    status_except_info.append(\n",
    "        {\n",
    "            \"except_feature\": f,\n",
    "            \"accuracy\": accuracy_score(preds, target),\n",
    "            \"bayes_mse\": ProbaScorer()(clf, curr_X_train, target),\n",
    "        }\n",
    "    )\n",
    "\n",
    "status_only_info = []\n",
    "for f in features:\n",
    "    # all sets except one\n",
    "    start, end = transformed_feature_boundaries[f]\n",
    "    curr_X_train = X_train_transform[..., start:end]\n",
    "    curr_X_val = X_val_transform[..., start:end]\n",
    "    clf.fit(curr_X_train, status[train_indices])\n",
    "    preds = clf.predict(curr_X_val)\n",
    "    target = status[val_indices]\n",
    "    status_only_info.append(\n",
    "        {\n",
    "            \"feature_set\": f,\n",
    "            \"accuracy\": accuracy_score(preds, target),\n",
    "            \"bayes_mse\": ProbaScorer()(clf, curr_X_train, target),\n",
    "        }\n",
    "    )\n",
    "\n",
    "\n",
    "\n",
    "clf.fit(X_train_transform, status[train_indices])\n",
    "status_set_importances = FeatureImportanceScorer(transformed_feature_boundaries)(clf)\n",
    "\n",
    "\n",
    "print(\"####\\n#### Status ####\\n####\")\n",
    "\n",
    "print(f\"Error rate for leave one feature out:\\n\\n{pd.DataFrame(status_except_info)}\\n\\n\")\n",
    "print(f\"Error rate for training with only one feature set:\\n\\n{pd.DataFrame(status_only_info)}\\n\\n\")\n",
    "\n",
    "print(f\"Collective Feature Importances:\\n\\n{pd.DataFrame(status_set_importances)}\\n\\n\")"
   ]
  },
  {
   "cell_type": "code",
   "execution_count": 19,
   "metadata": {},
   "outputs": [
    {
     "name": "stdout",
     "output_type": "stream",
     "text": [
      "####\n",
      "#### Age ####\n",
      "####\n",
      "Error rate for leave one feature out:\n",
      "\n",
      "  feature        mae       mse\n",
      "0      f1  51.890446  4.474479\n",
      "1      f2  40.151473  3.567261\n",
      "2      f3  40.394874  3.667981\n",
      "3      f4  36.454900  3.554640\n",
      "4      f5  38.545130  3.681453\n",
      "\n",
      "\n",
      "Error rate for training with only one feature set:\n",
      "\n",
      "  feature         mae        mse\n",
      "0      f1   74.863858   4.935777\n",
      "1      f2   56.130875   4.701605\n",
      "2      f3   55.557789   4.796693\n",
      "3      f4  174.091490  10.092094\n",
      "4      f5  191.070681  10.631193\n",
      "\n",
      "\n",
      "Collective Feature Importances:\n",
      "\n",
      "  feature set  max_importance  mean_importance  std_importance\n",
      "0          f1        0.012077         0.010459        0.000688\n",
      "1          f2        0.012180         0.010081        0.000936\n",
      "2          f3        0.013172         0.009986        0.001380\n",
      "3          f4        0.012031         0.010652        0.000786\n",
      "4          f5        0.010715         0.010160        0.000623\n",
      "\n",
      "\n"
     ]
    }
   ],
   "source": [
    "regressor = RandomForestRegressor(n_estimators=100)\n",
    "\n",
    "age = df[\"Age\"].to_numpy()\n",
    "\n",
    "age_except_info = []\n",
    "\n",
    "\n",
    "for f in features:\n",
    "    # all sets except one\n",
    "    indices = [i for k, (start, end) in transformed_feature_boundaries.items() for i in range(start, end) if k != f]\n",
    "    curr_X_train = X_train_transform[..., indices]\n",
    "    curr_X_val = X_val_transform[..., indices]\n",
    "    regressor.fit(curr_X_train, age[train_indices])\n",
    "    preds = regressor.predict(curr_X_val)\n",
    "    target = age[val_indices]\n",
    "    age_except_info.append(\n",
    "        {\n",
    "            \"feature\": f,\n",
    "            \"mae\": mean_squared_error(target, preds),\n",
    "            \"mse\": mean_absolute_error(target, preds),\n",
    "        }\n",
    "    )\n",
    "\n",
    "age_only_info = []\n",
    "for f in features:\n",
    "    # all sets except one\n",
    "    start, end = transformed_feature_boundaries[f]\n",
    "    curr_X_train = X_train_transform[..., start:end]\n",
    "    curr_X_val = X_val_transform[..., start:end]\n",
    "    regressor.fit(curr_X_train, age[train_indices])\n",
    "    preds = regressor.predict(curr_X_val)\n",
    "    target = age[val_indices]\n",
    "    age_only_info.append(\n",
    "        {\n",
    "            \"feature\": f,\n",
    "            \"mae\": mean_squared_error(target, preds),\n",
    "            \"mse\": mean_absolute_error(target, preds),\n",
    "        }\n",
    "    )\n",
    "\n",
    "\n",
    "\n",
    "regressor.fit(X_train_transform, age[train_indices])\n",
    "age_set_importances = FeatureImportanceScorer(transformed_feature_boundaries)(clf)\n",
    "\n",
    "\n",
    "print(\"####\\n#### Age ####\\n####\")\n",
    "\n",
    "print(f\"Error rate for leave one feature out:\\n\\n{pd.DataFrame(age_except_info)}\\n\\n\")\n",
    "print(f\"Error rate for training with only one feature set:\\n\\n{pd.DataFrame(age_only_info)}\\n\\n\")\n",
    "\n",
    "print(f\"Collective Feature Importances:\\n\\n{pd.DataFrame(age_set_importances)}\\n\\n\")"
   ]
  }
 ],
 "metadata": {
  "interpreter": {
   "hash": "927038ae8190c10368ddd6b7c17e7998b1fce7f35984d4fe249a4ddf13c1f407"
  },
  "kernelspec": {
   "display_name": "Python 3.9.2 64-bit ('venv': venv)",
   "name": "python3"
  },
  "language_info": {
   "name": "python",
   "version": ""
  },
  "orig_nbformat": 4
 },
 "nbformat": 4,
 "nbformat_minor": 2
}