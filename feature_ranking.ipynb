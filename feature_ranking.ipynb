{
 "cells": [
  {
   "cell_type": "code",
   "execution_count": 1,
   "metadata": {},
   "outputs": [],
   "source": [
    "import os\n",
    "import json\n",
    "import pandas as pd\n",
    "import numpy as np\n",
    "\n",
    "import ast\n",
    "\n",
    "import pickle \n",
    "import matplotlib.pyplot as plt \n",
    "\n",
    "from sklearn.feature_selection import *\n",
    "from sklearn.model_selection import *\n",
    "from sklearn.preprocessing import *\n",
    "from sklearn.decomposition import PCA\n",
    "from sklearn.pipeline import Pipeline\n",
    "\n",
    "from sklearn.svm import SVC, SVR, LinearSVC\n",
    "from sklearn.metrics import *\n",
    "from sklearn.model_selection import cross_val_score\n",
    "\n",
    "from sklearn.ensemble import RandomForestRegressor, RandomForestClassifier\n",
    "\n",
    "\n",
    "from sklearn.base import TransformerMixin\n",
    "from sklearn.metrics import *"
   ]
  },
  {
   "cell_type": "code",
   "execution_count": 2,
   "metadata": {},
   "outputs": [],
   "source": [
    "X = np.loadtxt(\"data/processed/filled.np.gz\")"
   ]
  },
  {
   "cell_type": "code",
   "execution_count": 3,
   "metadata": {},
   "outputs": [
    {
     "name": "stdout",
     "output_type": "stream",
     "text": [
      "      Age Gender Status                                           features\n",
      "0      28      F      H  [32.385882764364446, -43.052354272490966, 12.5...\n",
      "1      24      M      S  [19.56469203834567, 5.210403728117817, -0.4542...\n",
      "2      29      M      N  [-11.747426683495547, -16.025053894630748, 2.9...\n",
      "3      28      M      H  [24.528365943690584, -17.436003818998074, 15.6...\n",
      "4      25      M      N  [26.801209609932265, -43.94187271754049, -3.43...\n",
      "...   ...    ...    ...                                                ...\n",
      "2600   21      F      N  [-33.801597619138526, -31.4414974953694, -14.5...\n",
      "2601   24      F      H  [3.6372571370198563, -14.181891019636248, 2.48...\n",
      "2602   12      F      H  [14.692804659916057, -0.08902988676968887, -19...\n",
      "2603   25      M      H  [-24.018674240475235, 4.557305777329094, -9.10...\n",
      "2604    6      M      H  [8.843705696375519, 56.15470172873436, -54.477...\n",
      "\n",
      "[2545 rows x 4 columns]\n"
     ]
    }
   ],
   "source": [
    "with open(\"data/processed/processed_data.json\") as jfile:\n",
    "    df = json.load(jfile)[\"df\"]\n",
    "    df = pd.DataFrame(df)\n",
    "\n",
    "print(df)"
   ]
  },
  {
   "cell_type": "code",
   "execution_count": 4,
   "metadata": {},
   "outputs": [],
   "source": [
    "with open(\"data/processed/indices.json\") as jfile:\n",
    "    indices = json.load(jfile)\n",
    "\n",
    "\n",
    "# We created a set of indices for each subset, and it's important to keep \n",
    "# Test indices seperate from our hyperparameter tunings,\n",
    "# Only validation is tested for feature selection and etc\n",
    "\n",
    "train_indices = np.array(indices[\"train_indices\"])\n",
    "val_indices = np.array(indices[\"val_indices\"])\n",
    "test_indices = np.array(indices[\"test_indices\"])\n",
    "\n",
    "X_train = X[train_indices]\n",
    "X_val = X[val_indices]\n",
    "X_test = X[test_indices]\n",
    "\n",
    "\n",
    "feature_dims = np.array(indices[\"feature_dims\"])\n",
    "features = \"f1 f2 f3 f4 f5\".split()\n"
   ]
  },
  {
   "cell_type": "markdown",
   "metadata": {},
   "source": [
    "# Feature Ranking"
   ]
  },
  {
   "cell_type": "code",
   "execution_count": 5,
   "metadata": {},
   "outputs": [],
   "source": [
    "gender_encoder = LabelEncoder().fit(df[\"Gender\"])\n",
    "status_encoder = LabelEncoder().fit(df[\"Status\"])\n",
    "\n",
    "genders = gender_encoder.transform(df[\"Gender\"])\n",
    "status = status_encoder.transform(df[\"Status\"])\n",
    "\n",
    "gender_onehot = OneHotEncoder().fit_transform(genders.reshape(-1, 1))\n",
    "status_onehot = OneHotEncoder().fit_transform(status.reshape(-1, 1))\n"
   ]
  },
  {
   "cell_type": "code",
   "execution_count": 6,
   "metadata": {},
   "outputs": [
    {
     "data": {
      "text/plain": [
       "{'f1': (0, 512),\n",
       " 'f2': (512, 2048),\n",
       " 'f3': (2048, 4352),\n",
       " 'f4': (4352, 6912),\n",
       " 'f5': (6912, 7116)}"
      ]
     },
     "execution_count": 6,
     "metadata": {},
     "output_type": "execute_result"
    }
   ],
   "source": [
    "# Boundaries in the X matrix, each feature set starts from a start_column and ends in a end_column\n",
    "feature_boundaries = {}\n",
    "start_idx = 0\n",
    "for f, feature_len in zip(features, feature_dims):\n",
    "    feature_boundaries[f] = (start_idx, start_idx + feature_len)\n",
    "    start_idx += feature_len\n",
    "feature_boundaries"
   ]
  },
  {
   "cell_type": "markdown",
   "metadata": {},
   "source": [
    "## Feature Set Importance Using Random Forests\n",
    "\n",
    "\n",
    "We use a random forest clf to classify the most important features for each label, starting with age.\n",
    "\n",
    "First we calculate a \"leave feature out\" error rate, to compare, then we calculate direct feature importances on a PCA projected set of each original set, and show some metrics. \n",
    "\n",
    "First we define some custom helper classes."
   ]
  },
  {
   "cell_type": "code",
   "execution_count": 7,
   "metadata": {},
   "outputs": [],
   "source": [
    "# Defining a custom pca for cross validation\n",
    "\n",
    "class CustomPCA(TransformerMixin):\n",
    "    def __init__(self, indices, explained_var=0.8):\n",
    "        super().__init__()\n",
    "        self.explained_var = explained_var\n",
    "        self.indices = indices\n",
    "        self.pcas = {}\n",
    "\n",
    "    def fit(self, X, y=None, **kwargs):\n",
    "        for k in self.indices:\n",
    "            start_col, end_col = self.indices[k]\n",
    "            self.pcas[k] = Pipeline(\n",
    "                [\n",
    "                    (\"scaler\", StandardScaler()),\n",
    "                    (\"pca\", PCA(self.explained_var))\n",
    "                ]\n",
    "            )\n",
    "            self.pcas[k].fit_transform(X[:, start_col:end_col])\n",
    "        return self\n",
    "        \n",
    "    def transform(self, X, **kwargs):\n",
    "        X_transform = []\n",
    "        for k in self.indices:\n",
    "            start_col, end_col = self.indices[k]\n",
    "            X_transform.append(self.pcas[k].transform(X[:, start_col:end_col]))\n",
    "        return np.concatenate(X_transform, axis=-1)"
   ]
  },
  {
   "cell_type": "code",
   "execution_count": 8,
   "metadata": {},
   "outputs": [],
   "source": [
    "class ProbaScorer:\n",
    "    def __init__(self):\n",
    "        pass\n",
    "\n",
    "    def __call__(self, clf, X, y):\n",
    "        '''\n",
    "            calls predict_proba function of clf and computes\n",
    "            a bayesian mse for the clf\n",
    "        '''\n",
    "        probs = clf.predict_proba(X)\n",
    "        n_class = len(np.unique(y))\n",
    "        one_hot = np.zeros((len(X), n_class))\n",
    "        one_hot[:, y] = 1\n",
    "        mse = ((probs - one_hot) ** 2).mean()\n",
    "        return mse"
   ]
  },
  {
   "cell_type": "code",
   "execution_count": 9,
   "metadata": {},
   "outputs": [],
   "source": [
    "class FeatureImportanceScorer:\n",
    "    def __init__(self, indices):\n",
    "        self.indices = indices\n",
    "    \n",
    "    def __call__(self, clf, X=None, y=None):\n",
    "        '''\n",
    "            reporting mean, max and std of importances of random forest\n",
    "        '''\n",
    "        result = []\n",
    "        for f in self.indices:\n",
    "            start_col, end_col = self.indices[f]\n",
    "            importances = clf.feature_importances_[start_col:end_col]\n",
    "            result.append({\n",
    "                \"feature set\": f,\n",
    "                \"max_importance\": importances.max(),\n",
    "                \"mean_importance\": importances.mean(),\n",
    "                \"std_importance\": importances.std(),\n",
    "            })\n",
    "        return result\n"
   ]
  },
  {
   "cell_type": "code",
   "execution_count": 10,
   "metadata": {},
   "outputs": [],
   "source": [
    "# Projecting from high dimensional data to each feature set's PC space\n",
    "pca = CustomPCA(feature_boundaries).fit(X[train_indices])\n",
    "X_train_transform = pca.transform(X_train)\n",
    "X_val_transform = pca.transform(X_val)"
   ]
  },
  {
   "cell_type": "code",
   "execution_count": 11,
   "metadata": {},
   "outputs": [
    {
     "data": {
      "text/plain": [
       "{'f1': (0, 27), 'f2': (27, 63), 'f3': (63, 87), 'f4': (87, 94), 'f5': (94, 97)}"
      ]
     },
     "execution_count": 11,
     "metadata": {},
     "output_type": "execute_result"
    }
   ],
   "source": [
    "# The previous indices does not work, we need to find the new indices for each pc set\n",
    "transformed_feature_boundaries = {}\n",
    "start = 0\n",
    "for k in pca.pcas:\n",
    "    end = start + pca.pcas[k][\"pca\"].n_components_\n",
    "    transformed_feature_boundaries[k] = (start, end)\n",
    "    start = end\n",
    "transformed_feature_boundaries"
   ]
  },
  {
   "cell_type": "markdown",
   "metadata": {},
   "source": [
    "#### Gender Importances"
   ]
  },
  {
   "cell_type": "code",
   "execution_count": 12,
   "metadata": {},
   "outputs": [
    {
     "name": "stdout",
     "output_type": "stream",
     "text": [
      "####\n",
      "#### Gender ####\n",
      "####\n",
      "Error rate for leave one feature out:\n",
      "\n",
      "  except_feature  accuracy  bayes_mse\n",
      "0             f1  0.937255   0.435095\n",
      "1             f2  0.960784   0.447691\n",
      "2             f3  0.960784   0.448259\n",
      "3             f4  0.960784   0.449880\n",
      "4             f5  0.964706   0.447316\n",
      "\n",
      "\n",
      "Error rate for training with only one feature set:\n",
      "\n",
      "  feature_set  accuracy  bayes_mse\n",
      "0          f1  0.937255   0.449726\n",
      "1          f2  0.933333   0.434458\n",
      "2          f3  0.937255   0.432331\n",
      "3          f4  0.733333   0.379653\n",
      "4          f5  0.713725   0.386318\n",
      "\n",
      "\n",
      "Collective Feature Importances:\n",
      "\n",
      "  feature set  max_importance  mean_importance  std_importance\n",
      "0          f1        0.218537         0.013791        0.040239\n",
      "1          f2        0.088101         0.009106        0.017832\n",
      "2          f3        0.083861         0.010351        0.016315\n",
      "3          f4        0.003989         0.003258        0.000557\n",
      "4          f5        0.015157         0.009543        0.004013\n",
      "\n",
      "\n"
     ]
    }
   ],
   "source": [
    "gender_except_info = []\n",
    "\n",
    "clf = RandomForestClassifier(n_estimators=100, )\n",
    "\n",
    "for f in features:\n",
    "    # all sets except one\n",
    "    indices = [i for k, (start, end) in transformed_feature_boundaries.items() for i in range(start, end) if k != f]\n",
    "    curr_X_train = X_train_transform[..., indices]\n",
    "    curr_X_val = X_val_transform[..., indices]\n",
    "    clf.fit(curr_X_train, genders[train_indices])\n",
    "    preds = clf.predict(curr_X_val)\n",
    "    target = genders[val_indices]\n",
    "    gender_except_info.append(\n",
    "        {\n",
    "            \"except_feature\": f,\n",
    "            \"accuracy\": accuracy_score(preds, target),\n",
    "            \"bayes_mse\": ProbaScorer()(clf, curr_X_train, target),\n",
    "        }\n",
    "    )\n",
    "\n",
    "gender_only_info = []\n",
    "for f in features:\n",
    "    # all sets except one\n",
    "    start, end = transformed_feature_boundaries[f]\n",
    "    curr_X_train = X_train_transform[:, start:end]\n",
    "    curr_X_val = X_val_transform[:, start:end]\n",
    "    clf.fit(curr_X_train, genders[train_indices])\n",
    "    preds = clf.predict(curr_X_val)\n",
    "    target = genders[val_indices]\n",
    "    gender_only_info.append(\n",
    "        {\n",
    "            \"feature_set\": f,\n",
    "            \"accuracy\": accuracy_score(preds, target),\n",
    "            \"bayes_mse\": ProbaScorer()(clf, curr_X_train, target),\n",
    "        }\n",
    "    )\n",
    "\n",
    "\n",
    "\n",
    "clf.fit(X_train_transform, genders[train_indices])\n",
    "gender_set_importances = FeatureImportanceScorer(transformed_feature_boundaries)(clf)\n",
    "\n",
    "\n",
    "print(\"####\\n#### Gender ####\\n####\")\n",
    "\n",
    "print(f\"Error rate for leave one feature out:\\n\\n{pd.DataFrame(gender_except_info)}\\n\\n\")\n",
    "print(f\"Error rate for training with only one feature set:\\n\\n{pd.DataFrame(gender_only_info)}\\n\\n\")\n",
    "\n",
    "print(f\"Collective Feature Importances:\\n\\n{pd.DataFrame(gender_set_importances)}\\n\\n\")"
   ]
  },
  {
   "cell_type": "markdown",
   "metadata": {},
   "source": [
    "#### Status Importances"
   ]
  },
  {
   "cell_type": "code",
   "execution_count": 13,
   "metadata": {},
   "outputs": [
    {
     "name": "stdout",
     "output_type": "stream",
     "text": [
      "####\n",
      "#### Status ####\n",
      "####\n",
      "Error rate for leave one feature out:\n",
      "\n",
      "  except_feature  accuracy  bayes_mse\n",
      "0             f1  0.349020   0.541014\n",
      "1             f2  0.360784   0.540963\n",
      "2             f3  0.364706   0.541952\n",
      "3             f4  0.388235   0.542903\n",
      "4             f5  0.411765   0.542734\n",
      "\n",
      "\n",
      "Error rate for training with only one feature set:\n",
      "\n",
      "  feature_set  accuracy  bayes_mse\n",
      "0          f1  0.376471   0.538241\n",
      "1          f2  0.380392   0.541711\n",
      "2          f3  0.352941   0.541800\n",
      "3          f4  0.349020   0.537754\n",
      "4          f5  0.360784   0.535122\n",
      "\n",
      "\n",
      "Collective Feature Importances:\n",
      "\n",
      "  feature set  max_importance  mean_importance  std_importance\n",
      "0          f1        0.012665         0.010508        0.000883\n",
      "1          f2        0.013328         0.010158        0.000941\n",
      "2          f3        0.012663         0.010408        0.001185\n",
      "3          f4        0.011813         0.010341        0.000753\n",
      "4          f5        0.009822         0.009477        0.000248\n",
      "\n",
      "\n"
     ]
    }
   ],
   "source": [
    "status_except_info = []\n",
    "\n",
    "clf = RandomForestClassifier(n_estimators=100, )\n",
    "\n",
    "for f in features:\n",
    "    # all sets except one\n",
    "    indices = [i for k, (start, end) in transformed_feature_boundaries.items() for i in range(start, end) if k != f]\n",
    "    curr_X_train = X_train_transform[..., indices]\n",
    "    curr_X_val = X_val_transform[..., indices]\n",
    "    clf.fit(curr_X_train, status[train_indices])\n",
    "    preds = clf.predict(curr_X_val)\n",
    "    target = status[val_indices]\n",
    "    status_except_info.append(\n",
    "        {\n",
    "            \"except_feature\": f,\n",
    "            \"accuracy\": accuracy_score(preds, target),\n",
    "            \"bayes_mse\": ProbaScorer()(clf, curr_X_train, target),\n",
    "        }\n",
    "    )\n",
    "\n",
    "status_only_info = []\n",
    "for f in features:\n",
    "    # all sets except one\n",
    "    start, end = transformed_feature_boundaries[f]\n",
    "    curr_X_train = X_train_transform[..., start:end]\n",
    "    curr_X_val = X_val_transform[..., start:end]\n",
    "    clf.fit(curr_X_train, status[train_indices])\n",
    "    preds = clf.predict(curr_X_val)\n",
    "    target = status[val_indices]\n",
    "    status_only_info.append(\n",
    "        {\n",
    "            \"feature_set\": f,\n",
    "            \"accuracy\": accuracy_score(preds, target),\n",
    "            \"bayes_mse\": ProbaScorer()(clf, curr_X_train, target),\n",
    "        }\n",
    "    )\n",
    "\n",
    "\n",
    "\n",
    "clf.fit(X_train_transform, status[train_indices])\n",
    "status_set_importances = FeatureImportanceScorer(transformed_feature_boundaries)(clf)\n",
    "\n",
    "\n",
    "print(\"####\\n#### Status ####\\n####\")\n",
    "\n",
    "print(f\"Error rate for leave one feature out:\\n\\n{pd.DataFrame(status_except_info)}\\n\\n\")\n",
    "print(f\"Error rate for training with only one feature set:\\n\\n{pd.DataFrame(status_only_info)}\\n\\n\")\n",
    "\n",
    "print(f\"Collective Feature Importances:\\n\\n{pd.DataFrame(status_set_importances)}\\n\\n\")"
   ]
  },
  {
   "cell_type": "code",
   "execution_count": 14,
   "metadata": {},
   "outputs": [
    {
     "name": "stdout",
     "output_type": "stream",
     "text": [
      "####\n",
      "#### Age ####\n",
      "####\n",
      "Error rate for leave one feature out:\n",
      "\n",
      "  feature        mae       mse\n",
      "0      f1  73.069441  5.519351\n",
      "1      f2  40.609770  4.075303\n",
      "2      f3  41.004975  4.067718\n",
      "3      f4  39.828087  4.219155\n",
      "4      f5  43.336268  4.386042\n",
      "\n",
      "\n",
      "Error rate for training with only one feature set:\n",
      "\n",
      "  feature         mae        mse\n",
      "0      f1   65.386517   4.790350\n",
      "1      f2   72.218903   5.580814\n",
      "2      f3   73.691390   5.750493\n",
      "3      f4  176.939425  10.116381\n",
      "4      f5  201.158481  10.566140\n",
      "\n",
      "\n",
      "Collective Feature Importances:\n",
      "\n",
      "  feature set  max_importance  mean_importance  std_importance\n",
      "0          f1        0.012665         0.010508        0.000883\n",
      "1          f2        0.013328         0.010158        0.000941\n",
      "2          f3        0.012663         0.010408        0.001185\n",
      "3          f4        0.011813         0.010341        0.000753\n",
      "4          f5        0.009822         0.009477        0.000248\n",
      "\n",
      "\n"
     ]
    }
   ],
   "source": [
    "regressor = RandomForestRegressor(n_estimators=100)\n",
    "\n",
    "age = df[\"Age\"].to_numpy()\n",
    "\n",
    "age_except_info = []\n",
    "\n",
    "\n",
    "for f in features:\n",
    "    # all sets except one\n",
    "    indices = [i for k, (start, end) in transformed_feature_boundaries.items() for i in range(start, end) if k != f]\n",
    "    curr_X_train = X_train_transform[..., indices]\n",
    "    curr_X_val = X_val_transform[..., indices]\n",
    "    regressor.fit(curr_X_train, age[train_indices])\n",
    "    preds = regressor.predict(curr_X_val)\n",
    "    target = age[val_indices]\n",
    "    age_except_info.append(\n",
    "        {\n",
    "            \"feature\": f,\n",
    "            \"mae\": mean_squared_error(target, preds),\n",
    "            \"mse\": mean_absolute_error(target, preds),\n",
    "        }\n",
    "    )\n",
    "\n",
    "age_only_info = []\n",
    "for f in features:\n",
    "    # all sets except one\n",
    "    start, end = transformed_feature_boundaries[f]\n",
    "    curr_X_train = X_train_transform[..., start:end]\n",
    "    curr_X_val = X_val_transform[..., start:end]\n",
    "    regressor.fit(curr_X_train, age[train_indices])\n",
    "    preds = regressor.predict(curr_X_val)\n",
    "    target = age[val_indices]\n",
    "    age_only_info.append(\n",
    "        {\n",
    "            \"feature\": f,\n",
    "            \"mae\": mean_squared_error(target, preds),\n",
    "            \"mse\": mean_absolute_error(target, preds),\n",
    "        }\n",
    "    )\n",
    "\n",
    "\n",
    "\n",
    "regressor.fit(X_train_transform, age[train_indices])\n",
    "age_set_importances = FeatureImportanceScorer(transformed_feature_boundaries)(clf)\n",
    "\n",
    "\n",
    "print(\"####\\n#### Age ####\\n####\")\n",
    "\n",
    "print(f\"Error rate for leave one feature out:\\n\\n{pd.DataFrame(age_except_info)}\\n\\n\")\n",
    "print(f\"Error rate for training with only one feature set:\\n\\n{pd.DataFrame(age_only_info)}\\n\\n\")\n",
    "\n",
    "print(f\"Collective Feature Importances:\\n\\n{pd.DataFrame(age_set_importances)}\\n\\n\")"
   ]
  }
 ],
 "metadata": {
  "interpreter": {
   "hash": "927038ae8190c10368ddd6b7c17e7998b1fce7f35984d4fe249a4ddf13c1f407"
  },
  "kernelspec": {
   "display_name": "Python 3.9.2 64-bit ('venv': venv)",
   "name": "python3"
  },
  "language_info": {
   "codemirror_mode": {
    "name": "ipython",
    "version": 3
   },
   "file_extension": ".py",
   "mimetype": "text/x-python",
   "name": "python",
   "nbconvert_exporter": "python",
   "pygments_lexer": "ipython3",
   "version": "3.9.2"
  },
  "orig_nbformat": 4
 },
 "nbformat": 4,
 "nbformat_minor": 2
}