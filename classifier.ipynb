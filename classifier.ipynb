{
  "nbformat": 4,
  "nbformat_minor": 5,
  "metadata": {
    "kernelspec": {
      "display_name": "Python 3",
      "language": "python",
      "name": "python3"
    },
    "language_info": {
      "codemirror_mode": {
        "name": "ipython",
        "version": 3
      },
      "file_extension": ".py",
      "mimetype": "text/x-python",
      "name": "python",
      "nbconvert_exporter": "python",
      "pygments_lexer": "ipython3",
      "version": "3.8.10"
    },
    "colab": {
      "name": "classifier.ipynb",
      "provenance": [],
      "collapsed_sections": []
    }
  },
  "cells": [
    {
      "cell_type": "code",
      "metadata": {
        "id": "ethical-expression"
      },
      "source": [
        "import os\n",
        "import json\n",
        "\n",
        "import pandas as pd\n",
        "import numpy as np\n",
        "import sklearn.svm, sklearn.linear_model\n",
        "\n",
        "from sklearn.preprocessing import *\n",
        "from sklearn.pipeline import Pipeline\n",
        "from sklearn.ensemble import RandomForestClassifier\n",
        "from sklearn.svm import SVC, SVR\n",
        "from sklearn.metrics import classification_report, mean_squared_error, r2_score\n",
        "from sklearn.model_selection import GridSearchCV\n",
        "from sklearn.neighbors import KNeighborsClassifier\n",
        "from sklearn.naive_bayes import GaussianNB\n",
        "\n",
        "import matplotlib.pyplot as plt\n",
        "\n",
        "import warnings\n",
        "warnings.filterwarnings('ignore')\n",
        "\n",
        "plt.style.use(\"ggplot\")"
      ],
      "id": "ethical-expression",
      "execution_count": 11,
      "outputs": []
    },
    {
      "cell_type": "markdown",
      "metadata": {
        "id": "resident-chambers"
      },
      "source": [
        "### Open Data"
      ],
      "id": "resident-chambers"
    },
    {
      "cell_type": "code",
      "metadata": {
        "colab": {
          "base_uri": "https://localhost:8080/"
        },
        "id": "respective-spain",
        "outputId": "c610b716-24c9-4dae-f220-2f7bb3b849c9"
      },
      "source": [
        "with open(\"data/processed/processed_data.json\") as pfile:\n",
        "    info = json.load(pfile)\n",
        "\n",
        "df = pd.DataFrame(info[\"df\"])\n",
        "train_indices = info[\"train_indices\"]\n",
        "test_indices = info[\"test_indices\"]\n",
        "val_indices = info[\"val_indices\"]\n",
        "print(np.intersect1d(train_indices, test_indices))\n",
        "print(np.intersect1d(train_indices, val_indices))\n",
        "print(np.intersect1d(test_indices, val_indices))\n",
        "\n",
        "encoder = {\n",
        "    \"gender\": LabelEncoder(),\n",
        "    \"status\": LabelEncoder()\n",
        "}\n",
        "\n",
        "gender_vec = encoder[\"gender\"].fit_transform(df[\"Gender\"])\n",
        "status_vec = encoder[\"status\"].fit_transform(df[\"Status\"])\n",
        "age_vec = df[\"Age\"].values\n",
        "\n",
        "X = df[\"features\"].values.tolist()\n",
        "X = np.asarray([np.array(x) for x in X])\n",
        "\n",
        "X_train = X[train_indices]\n",
        "X_val = X[val_indices]\n",
        "X_test = X[test_indices]\n",
        "\n"
      ],
      "id": "respective-spain",
      "execution_count": 2,
      "outputs": [
        {
          "output_type": "stream",
          "text": [
            "[]\n",
            "[]\n",
            "[]\n"
          ],
          "name": "stdout"
        }
      ]
    },
    {
      "cell_type": "markdown",
      "metadata": {
        "id": "sustained-milton"
      },
      "source": [
        "### Gender Classifier"
      ],
      "id": "sustained-milton"
    },
    {
      "cell_type": "code",
      "metadata": {
        "id": "geological-brief"
      },
      "source": [
        "gender_train = gender_vec[train_indices]\n",
        "gender_val = gender_vec[val_indices]\n",
        "gender_test = gender_vec[test_indices]\n",
        "\n",
        "pipe = Pipeline(steps=[('estimator', SVC())])\n",
        "params_grid = [{\n",
        "                'estimator':[SVC(max_iter=10000)],\n",
        "                'estimator__C': np.logspace(-3, 6, num=20, base=2),\n",
        "                'estimator__gamma': np.logspace(-3, 6, num=20, base=2),\n",
        "                'estimator__kernel': ['linear', 'rbf']\n",
        "                },\n",
        "                {\n",
        "                'estimator': [RandomForestClassifier()],\n",
        "                'estimator__max_depth': list(range(1, 30))\n",
        "                },\n",
        "              ]"
      ],
      "id": "geological-brief",
      "execution_count": 3,
      "outputs": []
    },
    {
      "cell_type": "code",
      "metadata": {
        "colab": {
          "base_uri": "https://localhost:8080/"
        },
        "id": "waiting-substitute",
        "outputId": "8b8b65f8-6e34-4c22-8047-57ea6924d40c"
      },
      "source": [
        "gender_clf = GridSearchCV(pipe, params_grid)\n",
        "gender_clf.fit(np.concatenate((X_train, X_val)), \n",
        "               np.concatenate((gender_train, gender_val)))"
      ],
      "id": "waiting-substitute",
      "execution_count": 4,
      "outputs": [
        {
          "output_type": "execute_result",
          "data": {
            "text/plain": [
              "GridSearchCV(cv=None, error_score=nan,\n",
              "             estimator=Pipeline(memory=None,\n",
              "                                steps=[('estimator',\n",
              "                                        SVC(C=1.0, break_ties=False,\n",
              "                                            cache_size=200, class_weight=None,\n",
              "                                            coef0=0.0,\n",
              "                                            decision_function_shape='ovr',\n",
              "                                            degree=3, gamma='scale',\n",
              "                                            kernel='rbf', max_iter=-1,\n",
              "                                            probability=False,\n",
              "                                            random_state=None, shrinking=True,\n",
              "                                            tol=0.001, verbose=False))],\n",
              "                                verbose=False),\n",
              "             iid='deprecated', n_jo...\n",
              "                                                               min_impurity_split=None,\n",
              "                                                               min_samples_leaf=1,\n",
              "                                                               min_samples_split=2,\n",
              "                                                               min_weight_fraction_leaf=0.0,\n",
              "                                                               n_estimators=100,\n",
              "                                                               n_jobs=None,\n",
              "                                                               oob_score=False,\n",
              "                                                               random_state=None,\n",
              "                                                               verbose=0,\n",
              "                                                               warm_start=False)],\n",
              "                          'estimator__max_depth': [1, 2, 3, 4, 5, 6, 7, 8, 9,\n",
              "                                                   10, 11, 12, 13, 14, 15, 16,\n",
              "                                                   17, 18, 19, 20, 21, 22, 23,\n",
              "                                                   24, 25, 26, 27, 28, 29]}],\n",
              "             pre_dispatch='2*n_jobs', refit=True, return_train_score=False,\n",
              "             scoring=None, verbose=0)"
            ]
          },
          "metadata": {
            "tags": []
          },
          "execution_count": 4
        }
      ]
    },
    {
      "cell_type": "code",
      "metadata": {
        "id": "blessed-wisdom",
        "colab": {
          "base_uri": "https://localhost:8080/"
        },
        "outputId": "f8c9adf6-abc6-407b-f2e5-2a03f15b38c1"
      },
      "source": [
        "gender_clf.best_params_"
      ],
      "id": "blessed-wisdom",
      "execution_count": 5,
      "outputs": [
        {
          "output_type": "execute_result",
          "data": {
            "text/plain": [
              "{'estimator': RandomForestClassifier(bootstrap=True, ccp_alpha=0.0, class_weight=None,\n",
              "                        criterion='gini', max_depth=21, max_features='auto',\n",
              "                        max_leaf_nodes=None, max_samples=None,\n",
              "                        min_impurity_decrease=0.0, min_impurity_split=None,\n",
              "                        min_samples_leaf=1, min_samples_split=2,\n",
              "                        min_weight_fraction_leaf=0.0, n_estimators=100,\n",
              "                        n_jobs=None, oob_score=False, random_state=None,\n",
              "                        verbose=0, warm_start=False),\n",
              " 'estimator__max_depth': 21}"
            ]
          },
          "metadata": {
            "tags": []
          },
          "execution_count": 5
        }
      ]
    },
    {
      "cell_type": "code",
      "metadata": {
        "id": "prostate-breach",
        "colab": {
          "base_uri": "https://localhost:8080/"
        },
        "outputId": "49fc1d2a-60ab-493c-9f85-51a7d84e21ed"
      },
      "source": [
        "print(f\"Classification report for gender classifier:\\n\"\n",
        "      f\"{classification_report(gender_test, gender_clf.predict(X_test))}\\n\")"
      ],
      "id": "prostate-breach",
      "execution_count": 6,
      "outputs": [
        {
          "output_type": "stream",
          "text": [
            "Classification report for gender classifier:\n",
            "              precision    recall  f1-score   support\n",
            "\n",
            "           0       0.86      0.87      0.87       182\n",
            "           1       0.93      0.92      0.92       327\n",
            "\n",
            "    accuracy                           0.90       509\n",
            "   macro avg       0.89      0.90      0.90       509\n",
            "weighted avg       0.90      0.90      0.90       509\n",
            "\n",
            "\n"
          ],
          "name": "stdout"
        }
      ]
    },
    {
      "cell_type": "markdown",
      "metadata": {
        "id": "blocked-defensive"
      },
      "source": [
        "### Status Classifier"
      ],
      "id": "blocked-defensive"
    },
    {
      "cell_type": "code",
      "metadata": {
        "id": "royal-queen"
      },
      "source": [
        "status_train = status_vec[train_indices]\n",
        "status_val = status_vec[val_indices]\n",
        "status_test = status_vec[test_indices]\n",
        "\n",
        "pipe = Pipeline(steps=[('estimator', SVC())])\n",
        "params_grid = [\n",
        "               {\n",
        "                'estimator':[SVC(max_iter=10000)],\n",
        "                'estimator__C': np.logspace(-3, 6, num=20, base=2),\n",
        "                'estimator__gamma': np.logspace(-3, 6, num=20, base=2),\n",
        "                'estimator__kernel': ['linear', 'rbf']\n",
        "                },\n",
        "                {\n",
        "                'estimator': [RandomForestClassifier()],\n",
        "                'estimator__max_depth': list(range(1, 30))\n",
        "                },\n",
        "                {\n",
        "                'estimator': [KNeighborsClassifier()],\n",
        "                'estimator__n_neighbors': list(range(3, 15))\n",
        "                },\n",
        "                {\n",
        "                'estimator': [GaussianNB()],\n",
        "                },\n",
        "              ]"
      ],
      "id": "royal-queen",
      "execution_count": 7,
      "outputs": []
    },
    {
      "cell_type": "code",
      "metadata": {
        "id": "authentic-comfort",
        "colab": {
          "base_uri": "https://localhost:8080/"
        },
        "outputId": "b4128f3e-f59f-4fdb-bf20-7203308d5b1a"
      },
      "source": [
        "status_clf = GridSearchCV(pipe, params_grid)\n",
        "status_clf.fit(np.concatenate((X_train, X_val)), \n",
        "               np.concatenate((status_train, status_val)))"
      ],
      "id": "authentic-comfort",
      "execution_count": 8,
      "outputs": [
        {
          "output_type": "execute_result",
          "data": {
            "text/plain": [
              "GridSearchCV(cv=None, error_score=nan,\n",
              "             estimator=Pipeline(memory=None,\n",
              "                                steps=[('estimator',\n",
              "                                        SVC(C=1.0, break_ties=False,\n",
              "                                            cache_size=200, class_weight=None,\n",
              "                                            coef0=0.0,\n",
              "                                            decision_function_shape='ovr',\n",
              "                                            degree=3, gamma='scale',\n",
              "                                            kernel='rbf', max_iter=-1,\n",
              "                                            probability=False,\n",
              "                                            random_state=None, shrinking=True,\n",
              "                                            tol=0.001, verbose=False))],\n",
              "                                verbose=False),\n",
              "             iid='deprecated', n_jo...\n",
              "                         {'estimator': [KNeighborsClassifier(algorithm='auto',\n",
              "                                                             leaf_size=30,\n",
              "                                                             metric='minkowski',\n",
              "                                                             metric_params=None,\n",
              "                                                             n_jobs=None,\n",
              "                                                             n_neighbors=5, p=2,\n",
              "                                                             weights='uniform')],\n",
              "                          'estimator__n_neighbors': [3, 4, 5, 6, 7, 8, 9, 10,\n",
              "                                                     11, 12, 13, 14]},\n",
              "                         {'estimator': [GaussianNB(priors=None,\n",
              "                                                   var_smoothing=1e-09)]}],\n",
              "             pre_dispatch='2*n_jobs', refit=True, return_train_score=False,\n",
              "             scoring=None, verbose=0)"
            ]
          },
          "metadata": {
            "tags": []
          },
          "execution_count": 8
        }
      ]
    },
    {
      "cell_type": "code",
      "metadata": {
        "id": "south-wilson",
        "colab": {
          "base_uri": "https://localhost:8080/"
        },
        "outputId": "d63f03f6-1d3f-4e5b-a605-701271e33f7a"
      },
      "source": [
        "status_clf.best_params_"
      ],
      "id": "south-wilson",
      "execution_count": 9,
      "outputs": [
        {
          "output_type": "execute_result",
          "data": {
            "text/plain": [
              "{'estimator': RandomForestClassifier(bootstrap=True, ccp_alpha=0.0, class_weight=None,\n",
              "                        criterion='gini', max_depth=22, max_features='auto',\n",
              "                        max_leaf_nodes=None, max_samples=None,\n",
              "                        min_impurity_decrease=0.0, min_impurity_split=None,\n",
              "                        min_samples_leaf=1, min_samples_split=2,\n",
              "                        min_weight_fraction_leaf=0.0, n_estimators=100,\n",
              "                        n_jobs=None, oob_score=False, random_state=None,\n",
              "                        verbose=0, warm_start=False),\n",
              " 'estimator__max_depth': 22}"
            ]
          },
          "metadata": {
            "tags": []
          },
          "execution_count": 9
        }
      ]
    },
    {
      "cell_type": "code",
      "metadata": {
        "id": "later-patent",
        "colab": {
          "base_uri": "https://localhost:8080/"
        },
        "outputId": "39265b34-17b8-4f00-d5ca-d28b46d91695"
      },
      "source": [
        "print(f\"Classification report for status classifier:\\n\"\n",
        "      f\"{classification_report(status_test, status_clf.predict(X_test))}\\n\")"
      ],
      "id": "later-patent",
      "execution_count": 10,
      "outputs": [
        {
          "output_type": "stream",
          "text": [
            "Classification report for status classifier:\n",
            "              precision    recall  f1-score   support\n",
            "\n",
            "           0       0.41      0.31      0.35       195\n",
            "           1       0.23      0.25      0.24       154\n",
            "           2       0.33      0.39      0.36       160\n",
            "\n",
            "    accuracy                           0.32       509\n",
            "   macro avg       0.32      0.32      0.32       509\n",
            "weighted avg       0.33      0.32      0.32       509\n",
            "\n",
            "\n"
          ],
          "name": "stdout"
        }
      ]
    },
    {
      "cell_type": "markdown",
      "metadata": {
        "id": "filled-conversation"
      },
      "source": [
        "### Age Predictor"
      ],
      "id": "filled-conversation"
    },
    {
      "cell_type": "code",
      "metadata": {
        "colab": {
          "base_uri": "https://localhost:8080/"
        },
        "id": "other-criticism",
        "outputId": "90b4e597-8904-4f91-d3f3-25196606b604"
      },
      "source": [
        "age_train = age_vec[train_indices]\n",
        "age_val = age_vec[val_indices]\n",
        "age_test = age_vec[test_indices]\n",
        "\n",
        "\n",
        "age_regressor = linear_model.LinearRegression()\n",
        "age_regressor.fit(np.concatenate((X_train, X_val)), \n",
        "                  np.concatenate((age_train, age_val)))\n",
        "\n",
        "print(f\"Classification report for age predictor:\\n\"\n",
        "      f\"MSE = {mean_squared_error(age_test, age_regressor.predict(X_test), squared=True)}\\n\"\n",
        "      f\"RMSE = {mean_squared_error(age_test, age_regressor.predict(X_test), squared=False)}\\n\"\n",
        "      f\"R2 Score = {r2_score(age_test, age_regressor.predict(X_test))}\\n\")"
      ],
      "id": "other-criticism",
      "execution_count": 16,
      "outputs": [
        {
          "output_type": "stream",
          "text": [
            "Classification report for age predictor:\n",
            "MSE = 85.70589608490556\n",
            "RMSE = 9.257747894866524\n",
            "R2 Score = 0.6220778980080461\n",
            "\n"
          ],
          "name": "stdout"
        }
      ]
    },
    {
      "cell_type": "code",
      "metadata": {
        "id": "congressional-utilization",
        "colab": {
          "base_uri": "https://localhost:8080/"
        },
        "outputId": "98efd926-74c3-48a1-f386-e3172b271c80"
      },
      "source": [
        "svr_clf = GridSearchCV(SVR(max_iter=10000), {'C': np.linspace(1, 50, num=10), \n",
        "                               'epsilon': np.logspace(-10, -3, num=2, base=2)})\n",
        "svr_clf.fit(np.concatenate((X_train, X_val)), \n",
        "            np.concatenate((age_train, age_val)))\n",
        "svr_clf.best_params_"
      ],
      "id": "congressional-utilization",
      "execution_count": 13,
      "outputs": [
        {
          "output_type": "execute_result",
          "data": {
            "text/plain": [
              "{'C': 37.75, 'epsilon': 0.125}"
            ]
          },
          "metadata": {
            "tags": []
          },
          "execution_count": 13
        }
      ]
    },
    {
      "cell_type": "code",
      "metadata": {
        "id": "southeast-donor",
        "colab": {
          "base_uri": "https://localhost:8080/"
        },
        "outputId": "428e40d6-f609-402c-9137-b1cd10783048"
      },
      "source": [
        "print(f\"Classification report for age predictor:\\n\"\n",
        "      f\"MSE = {mean_squared_error(age_test, svr_clf.predict(X_test), squared=True)}\\n\"\n",
        "      f\"RMSE = {mean_squared_error(age_test, svr_clf.predict(X_test), squared=False)}\\n\"\n",
        "      f\"R2 Score = {r2_score(age_test, svr_clf.predict(X_test))}\\n\")"
      ],
      "id": "southeast-donor",
      "execution_count": 15,
      "outputs": [
        {
          "output_type": "stream",
          "text": [
            "Classification report for age predictor:\n",
            "MSE = 63.375236986298496\n",
            "RMSE = 7.960856548531602\n",
            "R2 Score = 0.720545448210787\n",
            "\n"
          ],
          "name": "stdout"
        }
      ]
    },
    {
      "cell_type": "code",
      "metadata": {
        "id": "Q23NJAUC0jsw"
      },
      "source": [
        ""
      ],
      "id": "Q23NJAUC0jsw",
      "execution_count": null,
      "outputs": []
    }
  ]
}