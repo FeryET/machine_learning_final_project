{
  "nbformat": 4,
  "nbformat_minor": 5,
  "metadata": {
    "kernelspec": {
      "display_name": "Python 3",
      "language": "python",
      "name": "python3"
    },
    "language_info": {
      "codemirror_mode": {
        "name": "ipython",
        "version": 3
      },
      "file_extension": ".py",
      "mimetype": "text/x-python",
      "name": "python",
      "nbconvert_exporter": "python",
      "pygments_lexer": "ipython3",
      "version": "3.8.10"
    },
    "colab": {
      "name": "classifier.ipynb",
      "provenance": [],
      "collapsed_sections": []
    }
  },
  "cells": [
    {
      "cell_type": "code",
      "metadata": {
        "id": "ethical-expression"
      },
      "source": [
        "import os\n",
        "import json\n",
        "\n",
        "import pandas as pd\n",
        "import numpy as np\n",
        "import sklearn.svm\n",
        "\n",
        "from sklearn.preprocessing import *\n",
        "from sklearn.pipeline import Pipeline\n",
        "from sklearn.ensemble import RandomForestClassifier\n",
        "from sklearn.svm import SVC, SVR\n",
        "from sklearn.metrics import classification_report, mean_squared_error, r2_score\n",
        "from sklearn.model_selection import GridSearchCV\n",
        "\n",
        "import matplotlib.pyplot as plt\n",
        "\n",
        "import warnings\n",
        "warnings.filterwarnings('ignore')\n",
        "\n",
        "plt.style.use(\"ggplot\")"
      ],
      "id": "ethical-expression",
      "execution_count": 1,
      "outputs": []
    },
    {
      "cell_type": "markdown",
      "metadata": {
        "id": "resident-chambers"
      },
      "source": [
        "### Open Data"
      ],
      "id": "resident-chambers"
    },
    {
      "cell_type": "code",
      "metadata": {
        "colab": {
          "base_uri": "https://localhost:8080/"
        },
        "id": "respective-spain",
        "outputId": "c8078729-bbed-4cde-e53d-1a5ef7f3e931"
      },
      "source": [
        "with open(\"data/processed/processed_data.json\") as pfile:\n",
        "    info = json.load(pfile)\n",
        "\n",
        "df = pd.DataFrame(info[\"df\"])\n",
        "train_indices = info[\"train_indices\"]\n",
        "test_indices = info[\"test_indices\"]\n",
        "val_indices = info[\"val_indices\"]\n",
        "print(np.intersect1d(train_indices, test_indices))\n",
        "print(np.intersect1d(train_indices, val_indices))\n",
        "print(np.intersect1d(test_indices, val_indices))\n",
        "\n",
        "encoder = {\n",
        "    \"gender\": LabelEncoder(),\n",
        "    \"status\": LabelEncoder()\n",
        "}\n",
        "\n",
        "gender_vec = encoder[\"gender\"].fit_transform(df[\"Gender\"])\n",
        "status_vec = encoder[\"status\"].fit_transform(df[\"Status\"])\n",
        "age_vec = df[\"Age\"].values\n",
        "\n",
        "X = df[\"features\"].values.tolist()\n",
        "X = np.asarray([np.array(x) for x in X])\n",
        "\n",
        "X_train = X[train_indices]\n",
        "X_val = X[val_indices]\n",
        "X_test = X[test_indices]\n",
        "\n"
      ],
      "id": "respective-spain",
      "execution_count": 20,
      "outputs": [
        {
          "output_type": "stream",
          "text": [
            "[]\n",
            "[]\n",
            "[]\n"
          ],
          "name": "stdout"
        }
      ]
    },
    {
      "cell_type": "markdown",
      "metadata": {
        "id": "sustained-milton"
      },
      "source": [
        "### Gender Classifier"
      ],
      "id": "sustained-milton"
    },
    {
      "cell_type": "code",
      "metadata": {
        "id": "geological-brief"
      },
      "source": [
        "gender_train = gender_vec[train_indices]\n",
        "gender_val = gender_vec[val_indices]\n",
        "gender_test = gender_vec[test_indices]\n",
        "\n",
        "pipe = Pipeline(steps=[('estimator', SVC())])\n",
        "params_grid = [{\n",
        "                'estimator':[SVC(max_iter=10000)],\n",
        "                'estimator__C': np.logspace(-3, 6, num=20, base=2),\n",
        "                'estimator__gamma': np.logspace(-3, 6, num=20, base=2),\n",
        "                'estimator__kernel': ['linear', 'rbf']\n",
        "                },\n",
        "                {\n",
        "                'estimator': [RandomForestClassifier()],\n",
        "                'estimator__max_depth': list(range(1, 30))\n",
        "                },\n",
        "              ]"
      ],
      "id": "geological-brief",
      "execution_count": 8,
      "outputs": []
    },
    {
      "cell_type": "code",
      "metadata": {
        "colab": {
          "base_uri": "https://localhost:8080/"
        },
        "id": "waiting-substitute",
        "outputId": "6d7c8251-b27e-4865-d2ee-509702249767"
      },
      "source": [
        "gender_clf = GridSearchCV(pipe, params_grid)\n",
        "gender_clf.fit(np.concatenate((X_train, X_val)), \n",
        "               np.concatenate((gender_train, gender_val)))"
      ],
      "id": "waiting-substitute",
      "execution_count": 9,
      "outputs": [
        {
          "output_type": "execute_result",
          "data": {
            "text/plain": [
              "GridSearchCV(cv=None, error_score=nan,\n",
              "             estimator=Pipeline(memory=None,\n",
              "                                steps=[('estimator',\n",
              "                                        SVC(C=1.0, break_ties=False,\n",
              "                                            cache_size=200, class_weight=None,\n",
              "                                            coef0=0.0,\n",
              "                                            decision_function_shape='ovr',\n",
              "                                            degree=3, gamma='scale',\n",
              "                                            kernel='rbf', max_iter=-1,\n",
              "                                            probability=False,\n",
              "                                            random_state=None, shrinking=True,\n",
              "                                            tol=0.001, verbose=False))],\n",
              "                                verbose=False),\n",
              "             iid='deprecated', n_jo...\n",
              "                                                               min_impurity_split=None,\n",
              "                                                               min_samples_leaf=1,\n",
              "                                                               min_samples_split=2,\n",
              "                                                               min_weight_fraction_leaf=0.0,\n",
              "                                                               n_estimators=100,\n",
              "                                                               n_jobs=None,\n",
              "                                                               oob_score=False,\n",
              "                                                               random_state=None,\n",
              "                                                               verbose=0,\n",
              "                                                               warm_start=False)],\n",
              "                          'estimator__max_depth': [1, 2, 3, 4, 5, 6, 7, 8, 9,\n",
              "                                                   10, 11, 12, 13, 14, 15, 16,\n",
              "                                                   17, 18, 19, 20, 21, 22, 23,\n",
              "                                                   24, 25, 26, 27, 28, 29]}],\n",
              "             pre_dispatch='2*n_jobs', refit=True, return_train_score=False,\n",
              "             scoring=None, verbose=0)"
            ]
          },
          "metadata": {
            "tags": []
          },
          "execution_count": 9
        }
      ]
    },
    {
      "cell_type": "code",
      "metadata": {
        "id": "blessed-wisdom",
        "colab": {
          "base_uri": "https://localhost:8080/"
        },
        "outputId": "2fc236fe-4bf5-4d83-8f01-3082cbc73051"
      },
      "source": [
        "gender_clf.best_params_"
      ],
      "id": "blessed-wisdom",
      "execution_count": 10,
      "outputs": [
        {
          "output_type": "execute_result",
          "data": {
            "text/plain": [
              "{'estimator': RandomForestClassifier(bootstrap=True, ccp_alpha=0.0, class_weight=None,\n",
              "                        criterion='gini', max_depth=24, max_features='auto',\n",
              "                        max_leaf_nodes=None, max_samples=None,\n",
              "                        min_impurity_decrease=0.0, min_impurity_split=None,\n",
              "                        min_samples_leaf=1, min_samples_split=2,\n",
              "                        min_weight_fraction_leaf=0.0, n_estimators=100,\n",
              "                        n_jobs=None, oob_score=False, random_state=None,\n",
              "                        verbose=0, warm_start=False),\n",
              " 'estimator__max_depth': 24}"
            ]
          },
          "metadata": {
            "tags": []
          },
          "execution_count": 10
        }
      ]
    },
    {
      "cell_type": "code",
      "metadata": {
        "id": "prostate-breach",
        "colab": {
          "base_uri": "https://localhost:8080/"
        },
        "outputId": "9f77b426-9b84-4faf-e2d6-4236dbe571ce"
      },
      "source": [
        "print(f\"Classification report for gender classifier:\\n\"\n",
        "      f\"{classification_report(gender_test, gender_clf.predict(X_test))}\\n\")"
      ],
      "id": "prostate-breach",
      "execution_count": 11,
      "outputs": [
        {
          "output_type": "stream",
          "text": [
            "Classification report for gender classifier:\n",
            "              precision    recall  f1-score   support\n",
            "\n",
            "           0       0.86      0.88      0.87       182\n",
            "           1       0.93      0.92      0.93       327\n",
            "\n",
            "    accuracy                           0.91       509\n",
            "   macro avg       0.90      0.90      0.90       509\n",
            "weighted avg       0.91      0.91      0.91       509\n",
            "\n",
            "\n"
          ],
          "name": "stdout"
        }
      ]
    },
    {
      "cell_type": "markdown",
      "metadata": {
        "id": "blocked-defensive"
      },
      "source": [
        "### Status Classifier"
      ],
      "id": "blocked-defensive"
    },
    {
      "cell_type": "code",
      "metadata": {
        "id": "royal-queen"
      },
      "source": [
        "status_train = status_vec[train_indices]\n",
        "status_val = status_vec[val_indices]\n",
        "status_test = status_vec[test_indices]\n",
        "\n",
        "pipe = Pipeline(steps=[('estimator', SVC())])\n",
        "params_grid = [{\n",
        "                'estimator':[SVC(max_iter=10000)],\n",
        "                'estimator__C': np.logspace(-3, 6, num=20, base=2),\n",
        "                'estimator__gamma': np.logspace(-3, 6, num=20, base=2),\n",
        "                'estimator__kernel': ['linear', 'rbf']\n",
        "                },\n",
        "                {\n",
        "                'estimator': [RandomForestClassifier()],\n",
        "                'estimator__max_depth': list(range(1, 30))\n",
        "                },\n",
        "              ]"
      ],
      "id": "royal-queen",
      "execution_count": 16,
      "outputs": []
    },
    {
      "cell_type": "code",
      "metadata": {
        "id": "authentic-comfort",
        "colab": {
          "base_uri": "https://localhost:8080/"
        },
        "outputId": "f4401b9e-1fcd-40e1-88f0-54a17f475c52"
      },
      "source": [
        "status_clf = GridSearchCV(pipe, params_grid)\n",
        "status_clf.fit(np.concatenate((X_train, X_val)), \n",
        "               np.concatenate((status_train, status_val)))"
      ],
      "id": "authentic-comfort",
      "execution_count": 17,
      "outputs": [
        {
          "output_type": "execute_result",
          "data": {
            "text/plain": [
              "GridSearchCV(cv=None, error_score=nan,\n",
              "             estimator=Pipeline(memory=None,\n",
              "                                steps=[('estimator',\n",
              "                                        SVC(C=1.0, break_ties=False,\n",
              "                                            cache_size=200, class_weight=None,\n",
              "                                            coef0=0.0,\n",
              "                                            decision_function_shape='ovr',\n",
              "                                            degree=3, gamma='scale',\n",
              "                                            kernel='rbf', max_iter=-1,\n",
              "                                            probability=False,\n",
              "                                            random_state=None, shrinking=True,\n",
              "                                            tol=0.001, verbose=False))],\n",
              "                                verbose=False),\n",
              "             iid='deprecated', n_jo...\n",
              "                                                               min_impurity_split=None,\n",
              "                                                               min_samples_leaf=1,\n",
              "                                                               min_samples_split=2,\n",
              "                                                               min_weight_fraction_leaf=0.0,\n",
              "                                                               n_estimators=100,\n",
              "                                                               n_jobs=None,\n",
              "                                                               oob_score=False,\n",
              "                                                               random_state=None,\n",
              "                                                               verbose=0,\n",
              "                                                               warm_start=False)],\n",
              "                          'estimator__max_depth': [1, 2, 3, 4, 5, 6, 7, 8, 9,\n",
              "                                                   10, 11, 12, 13, 14, 15, 16,\n",
              "                                                   17, 18, 19, 20, 21, 22, 23,\n",
              "                                                   24, 25, 26, 27, 28, 29]}],\n",
              "             pre_dispatch='2*n_jobs', refit=True, return_train_score=False,\n",
              "             scoring=None, verbose=0)"
            ]
          },
          "metadata": {
            "tags": []
          },
          "execution_count": 17
        }
      ]
    },
    {
      "cell_type": "code",
      "metadata": {
        "id": "south-wilson",
        "colab": {
          "base_uri": "https://localhost:8080/"
        },
        "outputId": "e36669da-37d9-4e56-ffa3-661c5fd5be72"
      },
      "source": [
        "status_clf.best_params_"
      ],
      "id": "south-wilson",
      "execution_count": 21,
      "outputs": [
        {
          "output_type": "execute_result",
          "data": {
            "text/plain": [
              "{'estimator': RandomForestClassifier(bootstrap=True, ccp_alpha=0.0, class_weight=None,\n",
              "                        criterion='gini', max_depth=12, max_features='auto',\n",
              "                        max_leaf_nodes=None, max_samples=None,\n",
              "                        min_impurity_decrease=0.0, min_impurity_split=None,\n",
              "                        min_samples_leaf=1, min_samples_split=2,\n",
              "                        min_weight_fraction_leaf=0.0, n_estimators=100,\n",
              "                        n_jobs=None, oob_score=False, random_state=None,\n",
              "                        verbose=0, warm_start=False),\n",
              " 'estimator__max_depth': 12}"
            ]
          },
          "metadata": {
            "tags": []
          },
          "execution_count": 21
        }
      ]
    },
    {
      "cell_type": "code",
      "metadata": {
        "id": "later-patent",
        "colab": {
          "base_uri": "https://localhost:8080/"
        },
        "outputId": "6e36e21a-3c74-4871-985c-15fb7bbd0555"
      },
      "source": [
        "print(f\"Classification report for status classifier:\\n\"\n",
        "      f\"{classification_report(status_test, status_clf.predict(X_test))}\\n\")"
      ],
      "id": "later-patent",
      "execution_count": 22,
      "outputs": [
        {
          "output_type": "stream",
          "text": [
            "Classification report for status classifier:\n",
            "              precision    recall  f1-score   support\n",
            "\n",
            "           0       0.40      0.30      0.35       195\n",
            "           1       0.25      0.27      0.26       154\n",
            "           2       0.36      0.44      0.40       160\n",
            "\n",
            "    accuracy                           0.34       509\n",
            "   macro avg       0.34      0.34      0.33       509\n",
            "weighted avg       0.34      0.34      0.34       509\n",
            "\n",
            "\n"
          ],
          "name": "stdout"
        }
      ]
    },
    {
      "cell_type": "markdown",
      "metadata": {
        "id": "filled-conversation"
      },
      "source": [
        "### Age Predictor"
      ],
      "id": "filled-conversation"
    },
    {
      "cell_type": "code",
      "metadata": {
        "colab": {
          "base_uri": "https://localhost:8080/"
        },
        "id": "other-criticism",
        "outputId": "4509fa74-6fd7-41fb-9c4a-6341a7ce218e"
      },
      "source": [
        "age_train = age_vec[train_indices]\n",
        "age_val = age_vec[val_indices]\n",
        "age_test = age_vec[test_indices]\n",
        "\n",
        "svr_clf = GridSearchCV(SVR(max_iter=10000), {'C': np.linspace(1, 50, num=50), \n",
        "                               'epsilon': np.logspace(-10, -3, num=7, base=2)})\n",
        "svr_clf.fit(np.concatenate((X_train, X_val)), \n",
        "            np.concatenate((age_train, age_val)))"
      ],
      "id": "other-criticism",
      "execution_count": 23,
      "outputs": [
        {
          "output_type": "execute_result",
          "data": {
            "text/plain": [
              "GridSearchCV(cv=None, error_score=nan,\n",
              "             estimator=SVR(C=1.0, cache_size=200, coef0=0.0, degree=3,\n",
              "                           epsilon=0.1, gamma='scale', kernel='rbf',\n",
              "                           max_iter=10000, shrinking=True, tol=0.001,\n",
              "                           verbose=False),\n",
              "             iid='deprecated', n_jobs=None,\n",
              "             param_grid={'C': array([ 1.,  2.,  3.,  4.,  5.,  6.,  7.,  8.,  9., 10., 11., 12., 13.,\n",
              "       14., 15., 16., 17., 18., 19., 20., 21., 22., 23., 24., 25., 26.,\n",
              "       27., 28., 29., 30., 31., 32., 33., 34., 35., 36., 37., 38., 39.,\n",
              "       40., 41., 42., 43., 44., 45., 46., 47., 48., 49., 50.]),\n",
              "                         'epsilon': array([0.00097656, 0.00219231, 0.00492157, 0.01104854, 0.02480314,\n",
              "       0.05568117, 0.125     ])},\n",
              "             pre_dispatch='2*n_jobs', refit=True, return_train_score=False,\n",
              "             scoring=None, verbose=0)"
            ]
          },
          "metadata": {
            "tags": []
          },
          "execution_count": 23
        }
      ]
    },
    {
      "cell_type": "code",
      "metadata": {
        "id": "national-somewhere",
        "colab": {
          "base_uri": "https://localhost:8080/"
        },
        "outputId": "7ff24e69-e922-4441-a220-3819e99d658b"
      },
      "source": [
        "svr_clf.best_params_"
      ],
      "id": "national-somewhere",
      "execution_count": 26,
      "outputs": [
        {
          "output_type": "execute_result",
          "data": {
            "text/plain": [
              "{'C': 38.0, 'epsilon': 0.125}"
            ]
          },
          "metadata": {
            "tags": []
          },
          "execution_count": 26
        }
      ]
    },
    {
      "cell_type": "code",
      "metadata": {
        "id": "congressional-utilization",
        "colab": {
          "base_uri": "https://localhost:8080/"
        },
        "outputId": "97262dae-9a52-4cb0-a150-4cac4fa59dc1"
      },
      "source": [
        "print(f\"Classification report for age predictor:\\n\"\n",
        "      f\"MSE = {mean_squared_error(age_test, svr_clf.predict(X_test), squared=True)}\\n\"\n",
        "      f\"RMSE = {mean_squared_error(age_test, svr_clf.predict(X_test), squared=False)}\\n\"\n",
        "      f\"R2 Score = {r2_score(age_test, svr_clf.predict(X_test))}\\n\")"
      ],
      "id": "congressional-utilization",
      "execution_count": 27,
      "outputs": [
        {
          "output_type": "stream",
          "text": [
            "Classification report for age predictor:\n",
            "MSE = 63.34132804388615\n",
            "RMSE = 7.958726534055945\n",
            "R2 Score = 0.7206949704651264\n",
            "\n"
          ],
          "name": "stdout"
        }
      ]
    },
    {
      "cell_type": "code",
      "metadata": {
        "id": "southeast-donor"
      },
      "source": [
        ""
      ],
      "id": "southeast-donor",
      "execution_count": null,
      "outputs": []
    }
  ]
}