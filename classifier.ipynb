{
 "cells": [
  {
   "cell_type": "code",
   "execution_count": 9,
   "id": "ethical-expression",
   "metadata": {},
   "outputs": [],
   "source": [
    "import os\n",
    "import json\n",
    "\n",
    "import pandas as pd\n",
    "import numpy as np\n",
    "import sklearn.svm\n",
    "\n",
    "from sklearn.preprocessing import *\n",
    "from sklearn.pipeline import Pipeline\n",
    "from sklearn.ensemble import RandomForestClassifier\n",
    "from sklearn.svm import SVC, SVR\n",
    "from sklearn.metrics import classification_report, mean_squared_error, r2_score\n",
    "from sklearn.model_selection import GridSearchCV\n",
    "\n",
    "import matplotlib.pyplot as plt\n",
    "\n",
    "plt.style.use(\"ggplot\")"
   ]
  },
  {
   "cell_type": "markdown",
   "id": "resident-chambers",
   "metadata": {},
   "source": [
    "### Open Data"
   ]
  },
  {
   "cell_type": "code",
   "execution_count": 10,
   "id": "respective-spain",
   "metadata": {},
   "outputs": [
    {
     "name": "stdout",
     "output_type": "stream",
     "text": [
      "[]\n"
     ]
    }
   ],
   "source": [
    "with open(\"data/processed/processed_data.json\") as pfile:\n",
    "    info = json.load(pfile)\n",
    "\n",
    "df = pd.DataFrame(info[\"df\"])\n",
    "train_indices = info[\"train_indices\"]\n",
    "test_indices = info[\"test_indices\"]\n",
    "val_indices = info[\"val_indices\"]\n",
    "\n",
    "print(np.intersect1d(train_indices, test_indices))\n",
    "print(np.intersect1d(train_indices, val_indices))\n",
    "print(np.intersect1d(test_indices, val_indices))\n",
    "\n",
    "print(np.intersect1d(train_indices, test_indices))\n",
    "encoder = {\n",
    "    \"gender\": LabelEncoder(),\n",
    "    \"status\": LabelEncoder(),\n",
    "    \"age\": KBinsDiscretizer(encode=\"ordinal\")\n",
    "}\n",
    "\n",
    "gender_vec = encoder[\"gender\"].fit_transform(df[\"Gender\"])\n",
    "status_vec = encoder[\"status\"].fit_transform(df[\"Status\"])\n",
    "age_vec = encoder[\"age\"].fit_transform(df[\"Age\"].values.reshape(-1, 1)).squeeze()\n",
    "\n",
    "X = df[\"features\"].values.tolist()\n",
    "X = np.asarray([np.array(x) for x in X])\n",
    "\n",
    "X_train = X[train_indices]\n",
    "X_val = X[val_indices]\n",
    "X_test = X[test_indices]"
   ]
  },
  {
   "cell_type": "markdown",
   "id": "sustained-milton",
   "metadata": {},
   "source": [
    "### Gender Classifier"
   ]
  },
  {
   "cell_type": "code",
   "execution_count": 3,
   "id": "geological-brief",
   "metadata": {},
   "outputs": [],
   "source": [
    "gender_train = gender_vec[train_indices]\n",
    "gender_val = gender_vec[val_indices]\n",
    "gender_test = gender_vec[test_indices]\n",
    "\n",
    "pipe = Pipeline(steps=[('estimator', SVC())])\n",
    "params_grid = [{\n",
    "                'estimator':[SVC()],\n",
    "                'estimator__kernel': ['linear', 'rbf']\n",
    "                },\n",
    "                {\n",
    "                'estimator': [RandomForestClassifier()],\n",
    "                'estimator__max_depth': list(range(1, 30))\n",
    "                },\n",
    "              ]"
   ]
  },
  {
   "cell_type": "code",
   "execution_count": 4,
   "id": "waiting-substitute",
   "metadata": {},
   "outputs": [
    {
     "data": {
      "text/plain": [
       "GridSearchCV(estimator=Pipeline(steps=[('estimator', SVC())]),\n",
       "             param_grid=[{'estimator': [SVC()],\n",
       "                          'estimator__kernel': ['linear', 'rbf']},\n",
       "                         {'estimator': [RandomForestClassifier(max_depth=20)],\n",
       "                          'estimator__max_depth': [1, 2, 3, 4, 5, 6, 7, 8, 9,\n",
       "                                                   10, 11, 12, 13, 14, 15, 16,\n",
       "                                                   17, 18, 19, 20, 21, 22, 23,\n",
       "                                                   24, 25, 26, 27, 28, 29]}])"
      ]
     },
     "execution_count": 4,
     "metadata": {},
     "output_type": "execute_result"
    }
   ],
   "source": [
    "gender_clf = GridSearchCV(pipe, params_grid)\n",
    "gender_clf.fit(np.concatenate((X_train, X_val)), \n",
    "               np.concatenate((gender_train, gender_val)))"
   ]
  },
  {
   "cell_type": "code",
   "execution_count": 5,
   "id": "blessed-wisdom",
   "metadata": {},
   "outputs": [
    {
     "data": {
      "text/plain": [
       "{'estimator': RandomForestClassifier(max_depth=20), 'estimator__max_depth': 20}"
      ]
     },
     "execution_count": 5,
     "metadata": {},
     "output_type": "execute_result"
    }
   ],
   "source": [
    "gender_clf.best_params_"
   ]
  },
  {
   "cell_type": "code",
   "execution_count": 6,
   "id": "prostate-breach",
   "metadata": {},
   "outputs": [
    {
     "name": "stdout",
     "output_type": "stream",
     "text": [
      "Classification report for gender classifier:\n",
      "              precision    recall  f1-score   support\n",
      "\n",
      "           0       0.99      0.99      0.99       814\n",
      "           1       0.99      1.00      1.00      1476\n",
      "\n",
      "    accuracy                           0.99      2290\n",
      "   macro avg       0.99      0.99      0.99      2290\n",
      "weighted avg       0.99      0.99      0.99      2290\n",
      "\n",
      "\n"
     ]
    }
   ],
   "source": [
    "print(f\"Classification report for gender classifier:\\n\"\n",
    "      f\"{classification_report(gender_test, gender_clf.predict(X_test))}\\n\")"
   ]
  },
  {
   "cell_type": "markdown",
   "id": "blocked-defensive",
   "metadata": {},
   "source": [
    "### Status Classifier"
   ]
  },
  {
   "cell_type": "code",
   "execution_count": 7,
   "id": "royal-queen",
   "metadata": {},
   "outputs": [],
   "source": [
    "status_train = status_vec[train_indices]\n",
    "status_val = status_vec[val_indices]\n",
    "status_test = status_vec[test_indices]\n",
    "\n",
    "pipe = Pipeline(steps=[('estimator', SVC())])\n",
    "params_grid = [{\n",
    "                'estimator':[SVC()],\n",
    "                'estimator__kernel': ['linear', 'rbf']\n",
    "                },\n",
    "                {\n",
    "                'estimator': [RandomForestClassifier()],\n",
    "                'estimator__max_depth': list(range(1, 30))\n",
    "                },\n",
    "              ]"
   ]
  },
  {
   "cell_type": "code",
   "execution_count": null,
   "id": "authentic-comfort",
   "metadata": {},
   "outputs": [],
   "source": [
    "status_clf = GridSearchCV(pipe, params_grid)\n",
    "status_clf.fit(np.concatenate((X_train, X_val)), \n",
    "               np.concatenate((status_train, status_val)))"
   ]
  },
  {
   "cell_type": "code",
   "execution_count": 14,
   "id": "south-wilson",
   "metadata": {},
   "outputs": [
    {
     "ename": "NameError",
     "evalue": "name 'status_clf' is not defined",
     "output_type": "error",
     "traceback": [
      "\u001b[0;31m---------------------------------------------------------------------------\u001b[0m",
      "\u001b[0;31mNameError\u001b[0m                                 Traceback (most recent call last)",
      "\u001b[0;32m<ipython-input-14-12cca9855181>\u001b[0m in \u001b[0;36m<module>\u001b[0;34m\u001b[0m\n\u001b[0;32m----> 1\u001b[0;31m \u001b[0mstatus_clf\u001b[0m\u001b[0;34m.\u001b[0m\u001b[0mbest_params_\u001b[0m\u001b[0;34m\u001b[0m\u001b[0;34m\u001b[0m\u001b[0m\n\u001b[0m",
      "\u001b[0;31mNameError\u001b[0m: name 'status_clf' is not defined"
     ]
    }
   ],
   "source": [
    "status_clf.best_params_"
   ]
  },
  {
   "cell_type": "code",
   "execution_count": 13,
   "id": "later-patent",
   "metadata": {},
   "outputs": [
    {
     "ename": "NameError",
     "evalue": "name 'status_clf' is not defined",
     "output_type": "error",
     "traceback": [
      "\u001b[0;31m---------------------------------------------------------------------------\u001b[0m",
      "\u001b[0;31mNameError\u001b[0m                                 Traceback (most recent call last)",
      "\u001b[0;32m<ipython-input-13-826f974ab885>\u001b[0m in \u001b[0;36m<module>\u001b[0;34m\u001b[0m\n\u001b[1;32m      1\u001b[0m \u001b[0;32mfrom\u001b[0m \u001b[0msklearn\u001b[0m\u001b[0;34m.\u001b[0m\u001b[0mmetrics\u001b[0m \u001b[0;32mimport\u001b[0m \u001b[0mclassification_report\u001b[0m\u001b[0;34m\u001b[0m\u001b[0;34m\u001b[0m\u001b[0m\n\u001b[1;32m      2\u001b[0m \u001b[0;34m\u001b[0m\u001b[0m\n\u001b[0;32m----> 3\u001b[0;31m print(f\"Classification report for status classifier:\\n\"\n\u001b[0m\u001b[1;32m      4\u001b[0m       f\"{classification_report(status_test, status_clf.predict(X_test))}\\n\")\n",
      "\u001b[0;31mNameError\u001b[0m: name 'status_clf' is not defined"
     ]
    }
   ],
   "source": [
    "from sklearn.metrics import classification_report\n",
    "\n",
    "print(f\"Classification report for status classifier:\\n\"\n",
    "      f\"{classification_report(status_test, status_clf.predict(X_test))}\\n\")"
   ]
  },
  {
   "cell_type": "markdown",
   "id": "filled-conversation",
   "metadata": {},
   "source": [
    "### Age Predictor"
   ]
  },
  {
   "cell_type": "code",
   "execution_count": 43,
   "id": "other-criticism",
   "metadata": {},
   "outputs": [
    {
     "data": {
      "text/plain": [
       "GridSearchCV(estimator=SVR(),\n",
       "             param_grid={'C': [10, 15, 20, 25, 30, 35],\n",
       "                         'epsilon': [0.01, 0.05, 0.1]})"
      ]
     },
     "execution_count": 43,
     "metadata": {},
     "output_type": "execute_result"
    }
   ],
   "source": [
    "age_train = age_vec[train_indices]\n",
    "age_val = age_vec[val_indices]\n",
    "age_test = age_vec[test_indices]\n",
    "\n",
    "svr_clf = GridSearchCV(SVR(), {'C':list(range(10, 40, 5)), 'epsilon': [0.01, 0.05, 0.1]})\n",
    "svr_clf.fit(np.concatenate((X_train, X_val)), \n",
    "            np.concatenate((age_train, age_val)))"
   ]
  },
  {
   "cell_type": "code",
   "execution_count": 40,
   "id": "national-somewhere",
   "metadata": {},
   "outputs": [
    {
     "data": {
      "text/plain": [
       "{'C': 30, 'epsilon': 0.2}"
      ]
     },
     "execution_count": 40,
     "metadata": {},
     "output_type": "execute_result"
    }
   ],
   "source": [
    "svr_clf.best_params_"
   ]
  },
  {
   "cell_type": "code",
   "execution_count": 38,
   "id": "congressional-utilization",
   "metadata": {},
   "outputs": [
    {
     "name": "stdout",
     "output_type": "stream",
     "text": [
      "Classification report for age predictor:\n",
      "MSE = 0.1494349311754228\n",
      "RMSE = 0.386568145577753\n",
      "R2 Score = 0.9254115682318192\n",
      "\n"
     ]
    }
   ],
   "source": [
    "print(f\"Classification report for age predictor:\\n\"\n",
    "      f\"MSE = {mean_squared_error(age_test, svr_clf.predict(X_test), squared=True)}\\n\"\n",
    "      f\"RMSE = {mean_squared_error(age_test, svr_clf.predict(X_test), squared=False)}\\n\"\n",
    "      f\"R2 Score = {r2_score(age_test, svr_clf.predict(X_test))}\\n\")"
   ]
  },
  {
   "cell_type": "code",
   "execution_count": null,
   "id": "southeast-donor",
   "metadata": {},
   "outputs": [],
   "source": []
  }
 ],
 "metadata": {
  "kernelspec": {
   "display_name": "Python 3",
   "language": "python",
   "name": "python3"
  },
  "language_info": {
   "codemirror_mode": {
    "name": "ipython",
    "version": 3
   },
   "file_extension": ".py",
   "mimetype": "text/x-python",
   "name": "python",
   "nbconvert_exporter": "python",
   "pygments_lexer": "ipython3",
   "version": "3.8.10"
  }
 },
 "nbformat": 4,
 "nbformat_minor": 5
}
